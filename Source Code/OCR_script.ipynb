{
  "cells": [
    {
      "cell_type": "markdown",
      "metadata": {
        "id": "CLOMn3VRmmy1"
      },
      "source": [
        "## Import Library"
      ]
    },
    {
      "cell_type": "code",
      "execution_count": 1,
      "metadata": {
        "id": "7P_GrRIZmiF9"
      },
      "outputs": [],
      "source": [
        "import os\n",
        "import numpy as np\n",
        "import pandas as pd\n",
        "import json\n",
        "import cv2\n",
        "\n",
        "import seaborn as sns\n",
        "import matplotlib.pyplot as plt\n",
        "\n",
        "from tqdm.notebook import tqdm\n",
        "from bs4 import BeautifulSoup, element\n",
        "from itertools import product\n",
        "from PIL import Image, ImageDraw\n",
        "import xml.etree.ElementTree as ET\n",
        "\n",
        "from IPython.display import clear_output"
      ]
    },
    {
      "cell_type": "code",
      "source": [
        "from google.colab import drive\n",
        "drive.mount('/content/drive')"
      ],
      "metadata": {
        "colab": {
          "base_uri": "https://localhost:8080/"
        },
        "id": "Lgy_wQPciaAg",
        "outputId": "133f156f-46f6-4f2d-a641-9e9b01672d00"
      },
      "execution_count": 2,
      "outputs": [
        {
          "output_type": "stream",
          "name": "stdout",
          "text": [
            "Drive already mounted at /content/drive; to attempt to forcibly remount, call drive.mount(\"/content/drive\", force_remount=True).\n"
          ]
        }
      ]
    },
    {
      "cell_type": "markdown",
      "metadata": {
        "id": "NDSshAv1mo9-"
      },
      "source": [
        "## Load Dataset"
      ]
    },
    {
      "cell_type": "code",
      "execution_count": 3,
      "metadata": {
        "colab": {
          "base_uri": "https://localhost:8080/"
        },
        "id": "Q-uPTGBtmrFY",
        "outputId": "55404eb5-b3d5-4a07-e2ef-5157405dcea9"
      },
      "outputs": [
        {
          "output_type": "stream",
          "name": "stdout",
          "text": [
            "Downloading...\n",
            "From: https://drive.google.com/uc?id=1z2E3GljjQ8eYvac-hPYLDk5k5PIC5WBw\n",
            "To: /content/OCR.zip\n",
            "100% 35.7M/35.7M [00:00<00:00, 187MB/s]\n"
          ]
        }
      ],
      "source": [
        "!gdown 1z2E3GljjQ8eYvac-hPYLDk5k5PIC5WBw"
      ]
    },
    {
      "cell_type": "code",
      "execution_count": 4,
      "metadata": {
        "id": "CV5nIJo3mtB4"
      },
      "outputs": [],
      "source": [
        "!unzip \"/content/OCR.zip\" -d \"/content/\"\n",
        "clear_output()"
      ]
    },
    {
      "cell_type": "markdown",
      "metadata": {
        "id": "vHvL04FCm0Zj"
      },
      "source": [
        "## Data Preprocess"
      ]
    },
    {
      "cell_type": "code",
      "execution_count": null,
      "metadata": {
        "id": "Dy6ZW64B2Jbm"
      },
      "outputs": [],
      "source": [
        "def get_bbox(points: str) -> list:\n",
        "  temp = points.split(' ')\n",
        "  x1, y1 = temp[0].split(',')\n",
        "  x2, y2 = temp[1].split(',')\n",
        "  x3, y3 = temp[2].split(',')\n",
        "  x4, y4 = temp[3].split(',')\n",
        "  bbox = [x1, y1, x2, y2, x3, y3, x4, y4]\n",
        "  bbox = [int(float(i)) for i in bbox]\n",
        "  return bbox\n",
        "\n",
        "\n",
        "def get_word(xml_path: str) -> tuple:\n",
        "  xml_path = xml_path.replace('.tif', '_ocr.xml')\n",
        "  with open(xml_path, encoding='utf8') as f:\n",
        "        xml_data = f.read()\n",
        "  bs = BeautifulSoup(xml_data, 'xml')\n",
        "  page = bs.find('Page')\n",
        "  words = bs.find_all('Word')\n",
        "  image_info = page.attrs\n",
        "  image_word = []\n",
        "  for word in words:\n",
        "    temp_dict = {}\n",
        "    for content in word.contents:\n",
        "      temp_dict.update({'word' : word.find('Unicode').text})\n",
        "      if isinstance(content,element.Tag):\n",
        "        temp_dict.update(content.attrs)\n",
        "    image_word.append({\n",
        "      'bbox' : get_bbox(temp_dict.get('points')),\n",
        "      'word' : temp_dict.get('word')\n",
        "    })\n",
        "  return image_info, image_word\n",
        "\n",
        "\n",
        "def get_label(xml_path: str) -> list:\n",
        "  xml_path = xml_path.replace('.tif', '_gt.xml')\n",
        "  with open(xml_path, encoding=\"utf8\")as f:\n",
        "    xml_data = f.read()\n",
        "  bs = BeautifulSoup(xml_data,'xml')\n",
        "  labels = bs.find_all('TextRegion')\n",
        "  image_label = []\n",
        "  for label in labels:\n",
        "    temp_dict = {}\n",
        "    for content in label.contents:\n",
        "      if isinstance(content,element.Tag):\n",
        "        temp_dict.update(content.attrs)\n",
        "    image_label.append({\n",
        "      'bbox' : get_bbox(temp_dict.get('points')),\n",
        "      'label' : temp_dict.get('value')\n",
        "    })\n",
        "  return image_label\n",
        "\n",
        "\n",
        "def combine_word_label(image_word: list, image_label: list) -> list:\n",
        "  res = []\n",
        "  for row_word, row_label in product(image_word, image_label):\n",
        "    x1_w, y1_w, x2_w, y2_w, x3_w, y3_w, x4_w, y4_w = row_word.get('bbox')\n",
        "    x1_l, y1_l, x2_l, y2_l, x3_l, y3_l, x4_l, y4_l = row_label.get('bbox')\n",
        "\n",
        "    if x1_w > x1_l and x2_w < x2_l and y1_w > y1_l and y4_w < y4_l:\n",
        "      res.append({\n",
        "          'bbox' : row_word.get('bbox'),\n",
        "          'word' : row_word.get('word'),\n",
        "          'label' : row_label.get('label')\n",
        "      })\n",
        "  return res\n",
        "  \n",
        "\n",
        "def preprocess_xml(path):\n",
        "  image_info, image_word = get_word(path)\n",
        "  image_label = get_label(path)\n",
        "  image_axis = combine_word_label(image_word, image_label)\n",
        "\n",
        "  image_info['annotation'] = image_axis\n",
        "  return image_info"
      ]
    },
    {
      "cell_type": "code",
      "execution_count": null,
      "metadata": {
        "id": "PTdHJeKSUnkj"
      },
      "outputs": [],
      "source": [
        "path = '/content/ImageAndXML_Data'\n",
        "list_img = [i for i in os.listdir(path) if '.tif' in i]\n",
        "data = []\n",
        "\n",
        "for img in list_img:\n",
        "  img_path = os.path.join(path, img)\n",
        "  try:\n",
        "    data.append(preprocess_xml(img_path))\n",
        "  except:\n",
        "    print('Failed', img)"
      ]
    },
    {
      "cell_type": "code",
      "execution_count": null,
      "metadata": {
        "id": "N-2WSzEMXBD5"
      },
      "outputs": [],
      "source": [
        "# with open('/content/ImageAndXML_Data.json','w') as f:\n",
        "#   json.dump(data, f, indent=4)"
      ]
    },
    {
      "cell_type": "code",
      "execution_count": null,
      "metadata": {
        "id": "hyUX_zusfJfq"
      },
      "outputs": [],
      "source": [
        "with open('/content/ImageAndXML_Data.json') as f:\n",
        "  data = json.load(f) "
      ]
    },
    {
      "cell_type": "code",
      "execution_count": null,
      "metadata": {
        "id": "tW5UEHhOg3oC"
      },
      "outputs": [],
      "source": [
        "df = pd.DataFrame(data)"
      ]
    },
    {
      "cell_type": "code",
      "execution_count": null,
      "metadata": {
        "id": "9zZshm0nF1sI"
      },
      "outputs": [],
      "source": [
        "path = '/content/ImageAndXML_Data/0000223278.tif'\n",
        "list_bbox = [i['bbox'] for i in df[df['imageFilename']=='0000223278.tif']['annotation'].values[0]]\n",
        "list_bbox = [[i[0],i[1],i[4],i[5]] for i in list_bbox]"
      ]
    },
    {
      "cell_type": "code",
      "execution_count": null,
      "metadata": {
        "colab": {
          "base_uri": "https://localhost:8080/",
          "height": 691
        },
        "id": "ndDg1Jw3fTPv",
        "outputId": "4b381417-2879-47fb-857b-41c159c9459b"
      },
      "outputs": [
        {
          "data": {
            "image/png": "[encoded data removed]",
            "text/plain": [
              "<Figure size 1440x1440 with 2 Axes>"
            ]
          },
          "metadata": {},
          "output_type": "display_data"
        }
      ],
      "source": [
        "f, axs = plt.subplots(1,2, figsize=(20, 20))\n",
        "\n",
        "img = cv2.imread(path)\n",
        "axs[0].imshow(img)\n",
        "\n",
        "for x1, y1, x2, y2 in list_bbox:\n",
        "  cv2.rectangle(img,(x1,y1),(x2,y2),(255,0,0), 1)\n",
        "axs[1].imshow(img)\n",
        "\n",
        "plt.show()"
      ]
    },
    {
      "cell_type": "markdown",
      "metadata": {
        "id": "HUiN48VIYa2P"
      },
      "source": [
        "## Text Detection"
      ]
    },
    {
      "cell_type": "markdown",
      "metadata": {
        "id": "wef_85q0HexA"
      },
      "source": [
        "### 1. Segmentation"
      ]
    },
    {
      "cell_type": "code",
      "execution_count": null,
      "metadata": {
        "id": "COVAk3N8g6Nl"
      },
      "outputs": [],
      "source": [
        "cv2.setUseOptimized(True)\n",
        "ss =  cv2.ximgproc.segmentation.createSelectiveSearchSegmentation()"
      ]
    },
    {
      "cell_type": "code",
      "execution_count": null,
      "metadata": {
        "colab": {
          "base_uri": "https://localhost:8080/",
          "height": 341
        },
        "id": "mtqrCuiFkVXu",
        "outputId": "0ff404eb-8548-441d-af57-217815e77205"
      },
      "outputs": [
        {
          "data": {
            "text/plain": [
              "<matplotlib.image.AxesImage at 0x7f36043f0490>"
            ]
          },
          "execution_count": 11,
          "metadata": {},
          "output_type": "execute_result"
        },
        {
          "data": {
            "image/png": "[encoded data removed]",
            "text/plain": [
              "<Figure size 720x360 with 1 Axes>"
            ]
          },
          "metadata": {},
          "output_type": "display_data"
        }
      ],
      "source": [
        "im = cv2.imread(path)\n",
        "ss.setBaseImage(im)\n",
        "ss.switchToSelectiveSearchFast()\n",
        "rects = ss.process()\n",
        "imOut = im.copy()\n",
        "for i, rect in (enumerate(rects)):\n",
        "    x, y, w, h = rect\n",
        "    cv2.rectangle(imOut, (x, y), (x+w, y+h), (0, 255, 0), 1, cv2.LINE_AA)\n",
        "plt.figure(figsize=(10,5))\n",
        "plt.imshow(imOut)"
      ]
    },
    {
      "cell_type": "markdown",
      "metadata": {
        "id": "1AMNiGGF4zXe"
      },
      "source": [
        "### 2. Data Preparation"
      ]
    },
    {
      "cell_type": "code",
      "execution_count": null,
      "metadata": {
        "id": "YHoN0IIPkbi-"
      },
      "outputs": [],
      "source": [
        "cv2.setUseOptimized(True)\n",
        "ss =  cv2.ximgproc.segmentation.createSelectiveSearchSegmentation()\n",
        "\n",
        "def actual_bbox(filename):\n",
        "  filename = filename.split('/')[-1]\n",
        "  list_bbox = [i['bbox'] for i in df[df['imageFilename']==filename]['annotation'].values[0]]\n",
        "  list_bbox = [[i[0],i[1],i[4],i[5]] for i in list_bbox]\n",
        "  return np.array(list_bbox)\n",
        "\n",
        "\n",
        "def segment_bbox(filename):\n",
        "  img = cv2.imread(filename)\n",
        "  ss.setBaseImage(img)\n",
        "  ss.switchToSelectiveSearchFast()\n",
        "  list_bbox = ss.process()\n",
        "  list_bbox =  [[i[0], i[1], i[0]+i[2], i[1]+i[3]] for i in list_bbox]\n",
        "  return np.array(list_bbox)\n",
        "\n",
        "\n",
        "def bb_iou(box_act, box_seg):\n",
        "  x_1 = max(box_act[0], box_seg[0])\n",
        "  y_1 = max(box_act[1], box_seg[1])\n",
        "  x_2 = min(box_act[2], box_seg[2])\n",
        "  y_2 = min(box_act[3], box_seg[3])\n",
        "\n",
        "  inter_area = max(0, x_2 - x_1 + 1) * max(0, y_2 - y_1 + 1)\n",
        "  act_area = (box_act[2] - box_act[0] + 1) * (box_act[3] - box_act[1] + 1)\n",
        "  seg_area = (box_seg[2] - box_seg[0] + 1) * (box_seg[3] - box_seg[1] + 1)\n",
        "\n",
        "  iou = inter_area / float(act_area + seg_area - inter_area)\n",
        "  assert iou >= 0.0\n",
        "  assert iou <= 1.0\n",
        "  return iou\n",
        "\n",
        "\n",
        "def preprocess_train(filename):\n",
        "  img = cv2.imread(filename)\n",
        "  img_out = img.copy()\n",
        "  bbox_actual = actual_bbox(filename)\n",
        "  np.random.shuffle(bbox_actual)\n",
        "  bbox_segment = segment_bbox(filename)\n",
        "  np.random.shuffle(bbox_segment)\n",
        "  train_data = {'filename':[], 'bbox':[], 'label':[]}\n",
        "  true_count = 0\n",
        "  false_count = 0\n",
        "  for act, seg in product(bbox_actual, bbox_segment):\n",
        "    iou = bb_iou(act, seg)\n",
        "    if iou > 0.7 and true_count <= 50:\n",
        "      # temp_img = img_out[seg[1]:seg[3], seg[0]:seg[2]]\n",
        "      # img_res = cv2.resize(temp_img, (100,100), interpolation=cv2.INTER_AREA)\n",
        "      # train_data['image'].append(img_res.tolist())\n",
        "      train_data['filename'].append(filename.split('/')[-1])\n",
        "      train_data['bbox'].append(seg.tolist())\n",
        "      train_data['label'].append(1)\n",
        "      true_count += 1\n",
        "    elif iou < 0.3 and false_count <= 30:\n",
        "      # temp_img = img_out[seg[1]:seg[3], seg[0]:seg[2]]\n",
        "      # img_res = cv2.resize(temp_img, (100,100), interpolation=cv2.INTER_AREA)\n",
        "      # train_data['image'].append(img_res.tolist())\n",
        "      train_data['filename'].append(filename.split('/')[-1])\n",
        "      train_data['bbox'].append(seg.tolist())\n",
        "      train_data['label'].append(0)\n",
        "      false_count += 1\n",
        "    elif false_count > 30 and true_count > 70:\n",
        "      break\n",
        "  return train_data"
      ]
    },
    {
      "cell_type": "code",
      "execution_count": null,
      "metadata": {
        "colab": {
          "base_uri": "https://localhost:8080/",
          "height": 49,
          "referenced_widgets": [
            "29ffb970294a4f0e85de364bea7f0028",
            "c6f8647075b942f0b20fff6070c77262",
            "7aa666cc32a94dd5b2490e6e44f7384d",
            "e9a869b5019f46eb8e908e12afb9c418",
            "7aebc6aadb4347689fa86dc0418a2307",
            "54138fc0fc974d0389ca5001306d8153",
            "f8e11dd4b582426abfbbaa73c4a715b0",
            "31fe1174965b4b96a6744c46be96e8cd",
            "64a402a1a26b44c88b116ab9f27df86c",
            "718af8c8d6844d1b9fc194e97236001b",
            "f8bbbc383e11436283bab049988b8853"
          ]
        },
        "id": "Bjm9_yZEBMle",
        "outputId": "24ece234-da54-4cf8-e3f1-34413c2cc99e"
      },
      "outputs": [
        {
          "data": {
            "application/vnd.jupyter.widget-view+json": {
              "model_id": "29ffb970294a4f0e85de364bea7f0028",
              "version_major": 2,
              "version_minor": 0
            },
            "text/plain": [
              "  0%|          | 0/520 [00:00<?, ?it/s]"
            ]
          },
          "metadata": {},
          "output_type": "display_data"
        }
      ],
      "source": [
        "path = '/content/ImageAndXML_Data'\n",
        "list_img = [i for i in os.listdir(path) if '.tif' in i]\n",
        "data = {'image':[], 'label':[]}\n",
        "\n",
        "for img in tqdm(list_img):\n",
        "  img_path = os.path.join(path, img)\n",
        "  try:\n",
        "    temp_res = preprocess_train(img_path)\n",
        "    # data['image'].extend(temp_res['image'])\n",
        "    # data['label'].extend(temp_res['label'])\n",
        "    with open(f\"/content/data_train/{img.replace('.tif', '')}.json\", 'w') as f:\n",
        "      json.dump(temp_res, f, indent=4)\n",
        "  except:\n",
        "    print('Failed', img)"
      ]
    },
    {
      "cell_type": "code",
      "execution_count": null,
      "metadata": {
        "id": "mwj9zo65MplH"
      },
      "outputs": [],
      "source": [
        "!zip -r '/content/data_train.zip' '/content/data_train'"
      ]
    },
    {
      "cell_type": "code",
      "execution_count": null,
      "metadata": {
        "colab": {
          "base_uri": "https://localhost:8080/",
          "height": 17
        },
        "id": "4hYr0owaUIBa",
        "outputId": "11fc0b2e-2328-4e93-90cd-e41643ee942d"
      },
      "outputs": [
        {
          "data": {
            "application/javascript": [
              "\n",
              "    async function download(id, filename, size) {\n",
              "      if (!google.colab.kernel.accessAllowed) {\n",
              "        return;\n",
              "      }\n",
              "      const div = document.createElement('div');\n",
              "      const label = document.createElement('label');\n",
              "      label.textContent = `Downloading \"${filename}\": `;\n",
              "      div.appendChild(label);\n",
              "      const progress = document.createElement('progress');\n",
              "      progress.max = size;\n",
              "      div.appendChild(progress);\n",
              "      document.body.appendChild(div);\n",
              "\n",
              "      const buffers = [];\n",
              "      let downloaded = 0;\n",
              "\n",
              "      const channel = await google.colab.kernel.comms.open(id);\n",
              "      // Send a message to notify the kernel that we're ready.\n",
              "      channel.send({})\n",
              "\n",
              "      for await (const message of channel.messages) {\n",
              "        // Send a message to notify the kernel that we're ready.\n",
              "        channel.send({})\n",
              "        if (message.buffers) {\n",
              "          for (const buffer of message.buffers) {\n",
              "            buffers.push(buffer);\n",
              "            downloaded += buffer.byteLength;\n",
              "            progress.value = downloaded;\n",
              "          }\n",
              "        }\n",
              "      }\n",
              "      const blob = new Blob(buffers, {type: 'application/binary'});\n",
              "      const a = document.createElement('a');\n",
              "      a.href = window.URL.createObjectURL(blob);\n",
              "      a.download = filename;\n",
              "      div.appendChild(a);\n",
              "      a.click();\n",
              "      div.remove();\n",
              "    }\n",
              "  "
            ],
            "text/plain": [
              "<IPython.core.display.Javascript object>"
            ]
          },
          "metadata": {},
          "output_type": "display_data"
        },
        {
          "data": {
            "application/javascript": [
              "download(\"download_a72ef2be-b40e-4621-8fbb-12210f73ce6f\", \"data_train.zip\", 527475)"
            ],
            "text/plain": [
              "<IPython.core.display.Javascript object>"
            ]
          },
          "metadata": {},
          "output_type": "display_data"
        }
      ],
      "source": [
        "from google.colab import files\n",
        "files.download('/content/data_train.zip')"
      ]
    },
    {
      "cell_type": "code",
      "execution_count": null,
      "metadata": {
        "colab": {
          "base_uri": "https://localhost:8080/",
          "height": 49,
          "referenced_widgets": [
            "73949cc70eaf49aebb9022b649521b93",
            "9efda443139947adaa02c4bb43701af2",
            "d2122f7a322241ce83fa05e8101d626b",
            "4c19ac161cd04ac99e981ef74af59ce1",
            "420c3dc11e4049118be999f91ee7819c",
            "44682db8734f467c9683f6386c37c337",
            "530b8bab521944d2b54a98592ca906c7",
            "889a975f31b94922b0dae30c426d7bdb",
            "ad5d93d3d815406d96aa035be31eeb69",
            "e42312591f8447d6b9e49f301dbd8998",
            "37bbf804367147889911bbc267b033be"
          ]
        },
        "id": "DE-uvXfFPus0",
        "outputId": "175f3cfc-9057-499f-fa03-356688ae487d"
      },
      "outputs": [
        {
          "data": {
            "application/vnd.jupyter.widget-view+json": {
              "model_id": "73949cc70eaf49aebb9022b649521b93",
              "version_major": 2,
              "version_minor": 0
            },
            "text/plain": [
              "  0%|          | 0/520 [00:00<?, ?it/s]"
            ]
          },
          "metadata": {},
          "output_type": "display_data"
        }
      ],
      "source": [
        "path = '/content/data_train'\n",
        "list_data = [i for i in os.listdir(path) if '.json' in i]\n",
        "data = {'filename':[], 'bbox':[], 'label':[]}\n",
        "\n",
        "for row in tqdm(list_data):\n",
        "  row_path = os.path.join(path, row)\n",
        "  with open(row_path) as f:\n",
        "      temp = json.load(f)\n",
        "  data['filename'].extend(temp['filename'])\n",
        "  data['bbox'].extend(temp['bbox'])\n",
        "  data['label'].extend(temp['label'])"
      ]
    },
    {
      "cell_type": "code",
      "execution_count": null,
      "metadata": {
        "id": "XO89AMKfsRYv"
      },
      "outputs": [],
      "source": [
        "df_train = pd.DataFrame(data)"
      ]
    },
    {
      "cell_type": "code",
      "execution_count": null,
      "metadata": {
        "colab": {
          "base_uri": "https://localhost:8080/",
          "height": 424
        },
        "id": "gjvjyRORsnqc",
        "outputId": "429f0775-623e-4b0e-fb1c-0f2101ef0c5a"
      },
      "outputs": [
        {
          "data": {
            "text/html": [
              "\n",
              "  <div id=\"df-46e23529-e0f0-4cd5-a101-8ef159d3ed71\">\n",
              "    <div class=\"colab-df-container\">\n",
              "      <div>\n",
              "<style scoped>\n",
              "    .dataframe tbody tr th:only-of-type {\n",
              "        vertical-align: middle;\n",
              "    }\n",
              "\n",
              "    .dataframe tbody tr th {\n",
              "        vertical-align: top;\n",
              "    }\n",
              "\n",
              "    .dataframe thead th {\n",
              "        text-align: right;\n",
              "    }\n",
              "</style>\n",
              "<table border=\"1\" class=\"dataframe\">\n",
              "  <thead>\n",
              "    <tr style=\"text-align: right;\">\n",
              "      <th></th>\n",
              "      <th>filename</th>\n",
              "      <th>bbox</th>\n",
              "      <th>label</th>\n",
              "    </tr>\n",
              "  </thead>\n",
              "  <tbody>\n",
              "    <tr>\n",
              "      <th>0</th>\n",
              "      <td>11230046.tif</td>\n",
              "      <td>[541, 525, 744, 603]</td>\n",
              "      <td>0</td>\n",
              "    </tr>\n",
              "    <tr>\n",
              "      <th>1</th>\n",
              "      <td>11230046.tif</td>\n",
              "      <td>[64, 626, 163, 629]</td>\n",
              "      <td>0</td>\n",
              "    </tr>\n",
              "    <tr>\n",
              "      <th>2</th>\n",
              "      <td>11230046.tif</td>\n",
              "      <td>[197, 550, 541, 600]</td>\n",
              "      <td>0</td>\n",
              "    </tr>\n",
              "    <tr>\n",
              "      <th>3</th>\n",
              "      <td>11230046.tif</td>\n",
              "      <td>[595, 575, 635, 626]</td>\n",
              "      <td>0</td>\n",
              "    </tr>\n",
              "    <tr>\n",
              "      <th>4</th>\n",
              "      <td>11230046.tif</td>\n",
              "      <td>[198, 396, 406, 398]</td>\n",
              "      <td>0</td>\n",
              "    </tr>\n",
              "    <tr>\n",
              "      <th>...</th>\n",
              "      <td>...</td>\n",
              "      <td>...</td>\n",
              "      <td>...</td>\n",
              "    </tr>\n",
              "    <tr>\n",
              "      <th>38919</th>\n",
              "      <td>92173709.tif</td>\n",
              "      <td>[360, 418, 438, 443]</td>\n",
              "      <td>1</td>\n",
              "    </tr>\n",
              "    <tr>\n",
              "      <th>38920</th>\n",
              "      <td>92173709.tif</td>\n",
              "      <td>[293, 606, 332, 617]</td>\n",
              "      <td>1</td>\n",
              "    </tr>\n",
              "    <tr>\n",
              "      <th>38921</th>\n",
              "      <td>92173709.tif</td>\n",
              "      <td>[291, 627, 318, 639]</td>\n",
              "      <td>1</td>\n",
              "    </tr>\n",
              "    <tr>\n",
              "      <th>38922</th>\n",
              "      <td>92173709.tif</td>\n",
              "      <td>[292, 627, 317, 639]</td>\n",
              "      <td>1</td>\n",
              "    </tr>\n",
              "    <tr>\n",
              "      <th>38923</th>\n",
              "      <td>92173709.tif</td>\n",
              "      <td>[292, 626, 317, 639]</td>\n",
              "      <td>1</td>\n",
              "    </tr>\n",
              "  </tbody>\n",
              "</table>\n",
              "<p>38924 rows × 3 columns</p>\n",
              "</div>\n",
              "      <button class=\"colab-df-convert\" onclick=\"convertToInteractive('df-46e23529-e0f0-4cd5-a101-8ef159d3ed71')\"\n",
              "              title=\"Convert this dataframe to an interactive table.\"\n",
              "              style=\"display:none;\">\n",
              "        \n",
              "  <svg xmlns=\"http://www.w3.org/2000/svg\" height=\"24px\"viewBox=\"0 0 24 24\"\n",
              "       width=\"24px\">\n",
              "    <path d=\"M0 0h24v24H0V0z\" fill=\"none\"/>\n",
              "    <path d=\"M18.56 5.44l.94 2.06.94-2.06 2.06-.94-2.06-.94-.94-2.06-.94 2.06-2.06.94zm-11 1L8.5 8.5l.94-2.06 2.06-.94-2.06-.94L8.5 2.5l-.94 2.06-2.06.94zm10 10l.94 2.06.94-2.06 2.06-.94-2.06-.94-.94-2.06-.94 2.06-2.06.94z\"/><path d=\"M17.41 7.96l-1.37-1.37c-.4-.4-.92-.59-1.43-.59-.52 0-1.04.2-1.43.59L10.3 9.45l-7.72 7.72c-.78.78-.78 2.05 0 2.83L4 21.41c.39.39.9.59 1.41.59.51 0 1.02-.2 1.41-.59l7.78-7.78 2.81-2.81c.8-.78.8-2.07 0-2.86zM5.41 20L4 18.59l7.72-7.72 1.47 1.35L5.41 20z\"/>\n",
              "  </svg>\n",
              "      </button>\n",
              "      \n",
              "  <style>\n",
              "    .colab-df-container {\n",
              "      display:flex;\n",
              "      flex-wrap:wrap;\n",
              "      gap: 12px;\n",
              "    }\n",
              "\n",
              "    .colab-df-convert {\n",
              "      background-color: #E8F0FE;\n",
              "      border: none;\n",
              "      border-radius: 50%;\n",
              "      cursor: pointer;\n",
              "      display: none;\n",
              "      fill: #1967D2;\n",
              "      height: 32px;\n",
              "      padding: 0 0 0 0;\n",
              "      width: 32px;\n",
              "    }\n",
              "\n",
              "    .colab-df-convert:hover {\n",
              "      background-color: #E2EBFA;\n",
              "      box-shadow: 0px 1px 2px rgba(60, 64, 67, 0.3), 0px 1px 3px 1px rgba(60, 64, 67, 0.15);\n",
              "      fill: #174EA6;\n",
              "    }\n",
              "\n",
              "    [theme=dark] .colab-df-convert {\n",
              "      background-color: #3B4455;\n",
              "      fill: #D2E3FC;\n",
              "    }\n",
              "\n",
              "    [theme=dark] .colab-df-convert:hover {\n",
              "      background-color: #434B5C;\n",
              "      box-shadow: 0px 1px 3px 1px rgba(0, 0, 0, 0.15);\n",
              "      filter: drop-shadow(0px 1px 2px rgba(0, 0, 0, 0.3));\n",
              "      fill: #FFFFFF;\n",
              "    }\n",
              "  </style>\n",
              "\n",
              "      <script>\n",
              "        const buttonEl =\n",
              "          document.querySelector('#df-46e23529-e0f0-4cd5-a101-8ef159d3ed71 button.colab-df-convert');\n",
              "        buttonEl.style.display =\n",
              "          google.colab.kernel.accessAllowed ? 'block' : 'none';\n",
              "\n",
              "        async function convertToInteractive(key) {\n",
              "          const element = document.querySelector('#df-46e23529-e0f0-4cd5-a101-8ef159d3ed71');\n",
              "          const dataTable =\n",
              "            await google.colab.kernel.invokeFunction('convertToInteractive',\n",
              "                                                     [key], {});\n",
              "          if (!dataTable) return;\n",
              "\n",
              "          const docLinkHtml = 'Like what you see? Visit the ' +\n",
              "            '<a target=\"_blank\" href=https://colab.research.google.com/notebooks/data_table.ipynb>data table notebook</a>'\n",
              "            + ' to learn more about interactive tables.';\n",
              "          element.innerHTML = '';\n",
              "          dataTable['output_type'] = 'display_data';\n",
              "          await google.colab.output.renderOutput(dataTable, element);\n",
              "          const docLink = document.createElement('div');\n",
              "          docLink.innerHTML = docLinkHtml;\n",
              "          element.appendChild(docLink);\n",
              "        }\n",
              "      </script>\n",
              "    </div>\n",
              "  </div>\n",
              "  "
            ],
            "text/plain": [
              "           filename                  bbox  label\n",
              "0      11230046.tif  [541, 525, 744, 603]      0\n",
              "1      11230046.tif   [64, 626, 163, 629]      0\n",
              "2      11230046.tif  [197, 550, 541, 600]      0\n",
              "3      11230046.tif  [595, 575, 635, 626]      0\n",
              "4      11230046.tif  [198, 396, 406, 398]      0\n",
              "...             ...                   ...    ...\n",
              "38919  92173709.tif  [360, 418, 438, 443]      1\n",
              "38920  92173709.tif  [293, 606, 332, 617]      1\n",
              "38921  92173709.tif  [291, 627, 318, 639]      1\n",
              "38922  92173709.tif  [292, 627, 317, 639]      1\n",
              "38923  92173709.tif  [292, 626, 317, 639]      1\n",
              "\n",
              "[38924 rows x 3 columns]"
            ]
          },
          "execution_count": 16,
          "metadata": {},
          "output_type": "execute_result"
        }
      ],
      "source": [
        "df_train"
      ]
    },
    {
      "cell_type": "code",
      "execution_count": null,
      "metadata": {
        "id": "2qudOvAatWCJ"
      },
      "outputs": [],
      "source": [
        "def bbox_array(filename, bbox, path='/content/ImageAndXML_Data'):\n",
        "  filename = os.path.join(path, filename)\n",
        "  img = cv2.imread(filename)\n",
        "  temp_img = img[bbox[1]:bbox[3], bbox[0]:bbox[2]]\n",
        "  img_res = cv2.resize(temp_img, (64,64), interpolation=cv2.INTER_AREA)\n",
        "  return img_res\n",
        "\n",
        "def save_train_img(df):\n",
        "    name_before = ''\n",
        "    idx_name = 0\n",
        "    for _, row in tqdm(df.iterrows()):\n",
        "      img = bbox_array(row['filename'], row['bbox'])\n",
        "\n",
        "      if name_before == row['filename']:\n",
        "        idx_name += 1\n",
        "      else:\n",
        "        idx_name = 0\n",
        "\n",
        "      status = cv2.imwrite(f\"/content/detection_train/{row['label']}/{row['filename'].replace('.tif', '')}_{idx_name}.png\",img)\n",
        "      name_before = row['filename']"
      ]
    },
    {
      "cell_type": "code",
      "execution_count": null,
      "metadata": {
        "colab": {
          "base_uri": "https://localhost:8080/",
          "height": 49,
          "referenced_widgets": [
            "15c3eb9432fc4d1fa79fa566afbdfd5b",
            "b1734adc69564cdea4582875d24bbb69",
            "7fd7efb3926a4e7eb221d2f89cec269b",
            "ba6b98dde2c441b1b04454a0b22b4d46",
            "600b6b620ab34c739d476d765a9de7fb",
            "a01fc96bcae6421ab0e475994da4d43a",
            "22e0445eb8aa4cd585425db6a04c6f2a",
            "a5a322304744416fbcbcfeb6de8b90d3",
            "d2e8b96f4d854ec7a8031c4cbcaa4836",
            "32adf27015d245479a33b2620347865b",
            "03f27a5d0c7f405fa9e98b74bd587ecf"
          ]
        },
        "id": "KphvbbJ32Tn_",
        "outputId": "11dabf16-e89b-45fa-b03b-44b9a956f104"
      },
      "outputs": [
        {
          "data": {
            "application/vnd.jupyter.widget-view+json": {
              "model_id": "15c3eb9432fc4d1fa79fa566afbdfd5b",
              "version_major": 2,
              "version_minor": 0
            },
            "text/plain": [
              "0it [00:00, ?it/s]"
            ]
          },
          "metadata": {},
          "output_type": "display_data"
        }
      ],
      "source": [
        "save_train_img(df_train)"
      ]
    },
    {
      "cell_type": "code",
      "execution_count": null,
      "metadata": {
        "id": "DTo4NTn6xhRJ"
      },
      "outputs": [],
      "source": [
        "!zip -r '/content/detection_train.zip' '/content/detection_train'"
      ]
    },
    {
      "cell_type": "code",
      "execution_count": null,
      "metadata": {
        "colab": {
          "base_uri": "https://localhost:8080/",
          "height": 17
        },
        "id": "438WYEyf3VoG",
        "outputId": "38b4f337-56b8-485a-ec2f-af0ed2ac41b3"
      },
      "outputs": [
        {
          "data": {
            "application/javascript": [
              "\n",
              "    async function download(id, filename, size) {\n",
              "      if (!google.colab.kernel.accessAllowed) {\n",
              "        return;\n",
              "      }\n",
              "      const div = document.createElement('div');\n",
              "      const label = document.createElement('label');\n",
              "      label.textContent = `Downloading \"${filename}\": `;\n",
              "      div.appendChild(label);\n",
              "      const progress = document.createElement('progress');\n",
              "      progress.max = size;\n",
              "      div.appendChild(progress);\n",
              "      document.body.appendChild(div);\n",
              "\n",
              "      const buffers = [];\n",
              "      let downloaded = 0;\n",
              "\n",
              "      const channel = await google.colab.kernel.comms.open(id);\n",
              "      // Send a message to notify the kernel that we're ready.\n",
              "      channel.send({})\n",
              "\n",
              "      for await (const message of channel.messages) {\n",
              "        // Send a message to notify the kernel that we're ready.\n",
              "        channel.send({})\n",
              "        if (message.buffers) {\n",
              "          for (const buffer of message.buffers) {\n",
              "            buffers.push(buffer);\n",
              "            downloaded += buffer.byteLength;\n",
              "            progress.value = downloaded;\n",
              "          }\n",
              "        }\n",
              "      }\n",
              "      const blob = new Blob(buffers, {type: 'application/binary'});\n",
              "      const a = document.createElement('a');\n",
              "      a.href = window.URL.createObjectURL(blob);\n",
              "      a.download = filename;\n",
              "      div.appendChild(a);\n",
              "      a.click();\n",
              "      div.remove();\n",
              "    }\n",
              "  "
            ],
            "text/plain": [
              "<IPython.core.display.Javascript object>"
            ]
          },
          "metadata": {},
          "output_type": "display_data"
        },
        {
          "data": {
            "application/javascript": [
              "download(\"download_2ddc63bd-47eb-4d25-a6be-cd03999dc1a7\", \"detection_train.zip\", 208726140)"
            ],
            "text/plain": [
              "<IPython.core.display.Javascript object>"
            ]
          },
          "metadata": {},
          "output_type": "display_data"
        }
      ],
      "source": [
        "from google.colab import files\n",
        "files.download('/content/detection_train.zip')"
      ]
    },
    {
      "cell_type": "markdown",
      "metadata": {
        "id": "x8-5qNHOHVuE"
      },
      "source": [
        "### 3. Data Preprocessing"
      ]
    },
    {
      "cell_type": "code",
      "execution_count": null,
      "metadata": {
        "colab": {
          "base_uri": "https://localhost:8080/"
        },
        "id": "M2oEd85V38X3",
        "outputId": "0c40eb02-149c-4ce6-de9c-8966868b3c6e"
      },
      "outputs": [
        {
          "name": "stdout",
          "output_type": "stream",
          "text": [
            "Mounted at /content/gdrive\n"
          ]
        }
      ],
      "source": [
        "from google.colab import drive\n",
        "\n",
        "drive.mount('/content/gdrive')"
      ]
    },
    {
      "cell_type": "code",
      "execution_count": null,
      "metadata": {
        "id": "aBFhvBtp4QTP"
      },
      "outputs": [],
      "source": [
        "!unzip \"/content/gdrive/MyDrive/MLT2_Project/detection_train.zip\" -d \"/content\"\n",
        "clear_output()"
      ]
    },
    {
      "cell_type": "code",
      "execution_count": null,
      "metadata": {
        "id": "Hjn_HSP5raxQ"
      },
      "outputs": [],
      "source": [
        "import random\n",
        "import shutil\n",
        "\n",
        "# make new directory split\n",
        "path = '/content/content/detection_train/0'\n",
        "list_dir = os.listdir(path)\n",
        "random.shuffle(list_dir)\n",
        "idx = int(len(list_dir)*0.9)\n",
        "new_train = list_dir[:idx]\n",
        "new_val = list_dir[idx:]\n",
        "for i in new_train:\n",
        "  shutil.copy2(os.path.join(path,i), os.path.join('/content/detection_data/train/0',i))\n",
        "for i in new_val:\n",
        "  shutil.copy2(os.path.join(path,i), os.path.join('/content/detection_data/test/0',i))\n",
        "\n",
        "path = '/content/content/detection_train/1'\n",
        "list_dir = os.listdir(path)\n",
        "random.shuffle(list_dir)\n",
        "idx = int(len(list_dir)*0.9)\n",
        "new_train = list_dir[:idx]\n",
        "new_val = list_dir[idx:]\n",
        "for i in new_train:\n",
        "  shutil.copy2(os.path.join(path,i), os.path.join('/content/detection_data/train/1',i))\n",
        "for i in new_val:\n",
        "  shutil.copy2(os.path.join(path,i), os.path.join('/content/detection_data/test/1',i))"
      ]
    },
    {
      "cell_type": "code",
      "execution_count": null,
      "metadata": {
        "id": "ZUCDarMxut_M"
      },
      "outputs": [],
      "source": [
        "from tensorflow.keras.preprocessing.image import ImageDataGenerator\n",
        "\n",
        "# image generator\n",
        "def define_generator(width, height, batch_size):\n",
        "\n",
        "  # train dataset\n",
        "  train_datagen = ImageDataGenerator(\n",
        "        rescale=1./255,\n",
        "        shear_range=0.2,\n",
        "        zoom_range=0.2,\n",
        "        validation_split=0.2\n",
        "    )\n",
        "\n",
        "  ## split into train\n",
        "  train_generator = train_datagen.flow_from_directory(\n",
        "    \"/content/detection_data/train/\",\n",
        "    target_size=(width, height),\n",
        "    batch_size = batch_size,\n",
        "    color_mode='rgb',\n",
        "    class_mode = 'binary',\n",
        "    subset='training'\n",
        "  )\n",
        "\n",
        "  ## split into validation\n",
        "  validation_generator = train_datagen.flow_from_directory(\n",
        "      \"/content/detection_data/train/\",\n",
        "      target_size=(width, height),\n",
        "      batch_size = batch_size,\n",
        "      color_mode='rgb',\n",
        "      class_mode = 'binary',\n",
        "      subset='validation'\n",
        "  )\n",
        "\n",
        "  # test dataset\n",
        "  test_datagen = tf.keras.preprocessing.image.ImageDataGenerator()\n",
        "\n",
        "  test_generator = test_datagen.flow_from_directory(\n",
        "      directory='/content/detection_data/test/',\n",
        "      classes=['test'],\n",
        "      target_size=(width, height),\n",
        "      batch_size=1,\n",
        "      color_mode='rgb',\n",
        "      shuffle=False,\n",
        "      class_mode='binary')\n",
        "\n",
        "  return train_generator, validation_generator, test_generator"
      ]
    },
    {
      "cell_type": "markdown",
      "metadata": {
        "id": "6Sxtkq-EwJZx"
      },
      "source": [
        "### 4. Build Model"
      ]
    },
    {
      "cell_type": "code",
      "execution_count": null,
      "metadata": {
        "colab": {
          "base_uri": "https://localhost:8080/"
        },
        "id": "qRG01Ac5w9_J",
        "outputId": "a7e8ccc5-140b-482f-ba47-e7abc51bf7f3"
      },
      "outputs": [
        {
          "name": "stdout",
          "output_type": "stream",
          "text": [
            "2.8.2\n"
          ]
        }
      ],
      "source": [
        "import tensorflow as tf\n",
        "print(tf.__version__)"
      ]
    },
    {
      "cell_type": "code",
      "execution_count": null,
      "metadata": {
        "id": "_vqbiTIfwA8p"
      },
      "outputs": [],
      "source": [
        "def define_model(width, height):\n",
        "  model_input = tf.keras.layers.Input(shape=(width, height, 3), name='image_input')\n",
        "  model_main = tf.keras.applications.vgg16.VGG16(include_top=False)(model_input)\n",
        "  model_dense1 = tf.keras.layers.Flatten()(model_main)\n",
        "  model_dense2 = tf.keras.layers.Dense(64, activation='relu')(model_dense1)\n",
        "  model_dense3 = tf.keras.layers.Dropout(0.2)(model_dense2)\n",
        "  model_out = tf.keras.layers.Dense(1, activation='sigmoid')(model_dense3)\n",
        "\n",
        "  model = tf.keras.models.Model(model_input,  model_out)\n",
        "  optimizer = tf.keras.optimizers.Adam(lr=0.00004, beta_1=0.9, beta_2=0.999)\n",
        "  model.compile(loss=\"binary_crossentropy\", optimizer=optimizer, metrics=[\"accuracy\"])\n",
        "  return model"
      ]
    },
    {
      "cell_type": "code",
      "execution_count": null,
      "metadata": {
        "id": "4hzTQCvIxIVN"
      },
      "outputs": [],
      "source": [
        "def define_callbacks():\n",
        "  checkpoint = tf.keras.callbacks.ModelCheckpoint(\n",
        "      filepath='model_detection.h5',\n",
        "      monitor='val_accuracy',\n",
        "      save_best_only=True,\n",
        "      verbose=1\n",
        "  )\n",
        "  return checkpoint"
      ]
    },
    {
      "cell_type": "code",
      "execution_count": null,
      "metadata": {
        "id": "KbFkOVwoxOkk"
      },
      "outputs": [],
      "source": [
        "NB_EPOCH     = 10\n",
        "BATCH_SIZE   = 256\n",
        "WIDTH        = 64\n",
        "HEIGHT       = 64"
      ]
    },
    {
      "cell_type": "code",
      "execution_count": null,
      "metadata": {
        "colab": {
          "base_uri": "https://localhost:8080/"
        },
        "id": "7va90IvfxYm3",
        "outputId": "06e989bd-83a8-418b-e03a-f8cc382e3e67"
      },
      "outputs": [
        {
          "name": "stdout",
          "output_type": "stream",
          "text": [
            "Model: \"model_3\"\n",
            "_________________________________________________________________\n",
            " Layer (type)                Output Shape              Param #   \n",
            "=================================================================\n",
            " image_input (InputLayer)    [(None, 64, 64, 3)]       0         \n",
            "                                                                 \n",
            " vgg16 (Functional)          (None, None, None, 512)   14714688  \n",
            "                                                                 \n",
            " flatten_3 (Flatten)         (None, 2048)              0         \n",
            "                                                                 \n",
            " dense_6 (Dense)             (None, 64)                131136    \n",
            "                                                                 \n",
            " dropout_3 (Dropout)         (None, 64)                0         \n",
            "                                                                 \n",
            " dense_7 (Dense)             (None, 1)                 65        \n",
            "                                                                 \n",
            "=================================================================\n",
            "Total params: 14,845,889\n",
            "Trainable params: 14,845,889\n",
            "Non-trainable params: 0\n",
            "_________________________________________________________________\n"
          ]
        },
        {
          "name": "stderr",
          "output_type": "stream",
          "text": [
            "/usr/local/lib/python3.7/dist-packages/keras/optimizer_v2/adam.py:105: UserWarning: The `lr` argument is deprecated, use `learning_rate` instead.\n",
            "  super(Adam, self).__init__(name, **kwargs)\n"
          ]
        },
        {
          "name": "stdout",
          "output_type": "stream",
          "text": [
            "Found 28026 images belonging to 2 classes.\n",
            "Found 7006 images belonging to 2 classes.\n",
            "Found 0 images belonging to 1 classes.\n"
          ]
        }
      ],
      "source": [
        "model = define_model(WIDTH, HEIGHT)\n",
        "model.summary()\n",
        "train_generator, validation_generator, test_generator = define_generator(WIDTH, HEIGHT, BATCH_SIZE)\n",
        "save_callback = define_callbacks()"
      ]
    },
    {
      "cell_type": "code",
      "execution_count": null,
      "metadata": {
        "colab": {
          "base_uri": "https://localhost:8080/"
        },
        "id": "9VOUl9lJzSKI",
        "outputId": "e3b10f25-0cef-424e-92b4-3349aceb36f2"
      },
      "outputs": [
        {
          "name": "stdout",
          "output_type": "stream",
          "text": [
            "Epoch 1/10\n",
            "109/109 [==============================] - ETA: 0s - loss: 0.4227 - accuracy: 0.8140\n",
            "Epoch 1: val_accuracy improved from -inf to 0.84158, saving model to model_detection.h5\n",
            "109/109 [==============================] - 58s 519ms/step - loss: 0.4227 - accuracy: 0.8140 - val_loss: 0.3679 - val_accuracy: 0.8416\n",
            "Epoch 2/10\n",
            "109/109 [==============================] - ETA: 0s - loss: 0.3879 - accuracy: 0.8336\n",
            "Epoch 2: val_accuracy improved from 0.84158 to 0.84606, saving model to model_detection.h5\n",
            "109/109 [==============================] - 56s 508ms/step - loss: 0.3879 - accuracy: 0.8336 - val_loss: 0.3596 - val_accuracy: 0.8461\n",
            "Epoch 3/10\n",
            "109/109 [==============================] - ETA: 0s - loss: 0.3734 - accuracy: 0.8392\n",
            "Epoch 3: val_accuracy improved from 0.84606 to 0.84737, saving model to model_detection.h5\n",
            "109/109 [==============================] - 56s 510ms/step - loss: 0.3734 - accuracy: 0.8392 - val_loss: 0.3632 - val_accuracy: 0.8474\n",
            "Epoch 4/10\n",
            "109/109 [==============================] - ETA: 0s - loss: 0.3632 - accuracy: 0.8454\n",
            "Epoch 4: val_accuracy improved from 0.84737 to 0.85561, saving model to model_detection.h5\n",
            "109/109 [==============================] - 56s 515ms/step - loss: 0.3632 - accuracy: 0.8454 - val_loss: 0.3553 - val_accuracy: 0.8556\n",
            "Epoch 5/10\n",
            "109/109 [==============================] - ETA: 0s - loss: 0.3505 - accuracy: 0.8507\n",
            "Epoch 5: val_accuracy did not improve from 0.85561\n",
            "109/109 [==============================] - 56s 514ms/step - loss: 0.3505 - accuracy: 0.8507 - val_loss: 0.3834 - val_accuracy: 0.8429\n",
            "Epoch 6/10\n",
            "109/109 [==============================] - ETA: 0s - loss: 0.3409 - accuracy: 0.8557\n",
            "Epoch 6: val_accuracy did not improve from 0.85561\n",
            "109/109 [==============================] - 56s 513ms/step - loss: 0.3409 - accuracy: 0.8557 - val_loss: 0.3663 - val_accuracy: 0.8537\n",
            "Epoch 7/10\n",
            "109/109 [==============================] - ETA: 0s - loss: 0.3306 - accuracy: 0.8610\n",
            "Epoch 7: val_accuracy did not improve from 0.85561\n",
            "109/109 [==============================] - 55s 506ms/step - loss: 0.3306 - accuracy: 0.8610 - val_loss: 0.3818 - val_accuracy: 0.8478\n",
            "Epoch 8/10\n",
            "109/109 [==============================] - ETA: 0s - loss: 0.3148 - accuracy: 0.8692\n",
            "Epoch 8: val_accuracy did not improve from 0.85561\n",
            "109/109 [==============================] - 56s 509ms/step - loss: 0.3148 - accuracy: 0.8692 - val_loss: 0.3896 - val_accuracy: 0.8490\n",
            "Epoch 9/10\n",
            "109/109 [==============================] - ETA: 0s - loss: 0.3021 - accuracy: 0.8767\n",
            "Epoch 9: val_accuracy did not improve from 0.85561\n",
            "109/109 [==============================] - 56s 510ms/step - loss: 0.3021 - accuracy: 0.8767 - val_loss: 0.3813 - val_accuracy: 0.8501\n",
            "Epoch 10/10\n",
            "109/109 [==============================] - ETA: 0s - loss: 0.2948 - accuracy: 0.8802\n",
            "Epoch 10: val_accuracy did not improve from 0.85561\n",
            "109/109 [==============================] - 56s 510ms/step - loss: 0.2948 - accuracy: 0.8802 - val_loss: 0.4361 - val_accuracy: 0.8362\n"
          ]
        }
      ],
      "source": [
        "history = model.fit(\n",
        "  train_generator,\n",
        "  epochs = NB_EPOCH,\n",
        "  steps_per_epoch = train_generator.samples // BATCH_SIZE,\n",
        "  validation_data = validation_generator,\n",
        "  validation_steps = validation_generator.samples // BATCH_SIZE,\n",
        "  callbacks = [save_callback]\n",
        ")"
      ]
    },
    {
      "cell_type": "code",
      "execution_count": null,
      "metadata": {
        "colab": {
          "base_uri": "https://localhost:8080/",
          "height": 545
        },
        "id": "Xcby1yOd5wxY",
        "outputId": "7f83aa45-3d7f-4ae5-a877-b94d817e9e4e"
      },
      "outputs": [
        {
          "data": {
            "image/png": "[encoded data removed]",
            "text/plain": [
              "<Figure size 432x288 with 1 Axes>"
            ]
          },
          "metadata": {},
          "output_type": "display_data"
        },
        {
          "data": {
            "image/png": "[encoded data removed]",
            "text/plain": [
              "<Figure size 432x288 with 1 Axes>"
            ]
          },
          "metadata": {},
          "output_type": "display_data"
        }
      ],
      "source": [
        "import matplotlib.pyplot as plt\n",
        "acc = history.history['accuracy']\n",
        "val_acc = history.history['val_accuracy']\n",
        "loss = history.history['loss']\n",
        "val_loss = history.history['val_loss']\n",
        "\n",
        "epochs = range(len(acc))\n",
        "\n",
        "plt.plot(epochs, acc, 'r', label='Training accuracy')\n",
        "plt.plot(epochs, val_acc, 'b', label='Validation accuracy')\n",
        "plt.title('Training and validation accuracy')\n",
        "plt.legend()\n",
        "\n",
        "plt.figure()\n",
        "\n",
        "plt.plot(epochs, loss, 'r', label='Training Loss')\n",
        "plt.plot(epochs, val_loss, 'b', label='Validation Loss')\n",
        "plt.title('Training and validation loss')\n",
        "plt.legend()\n",
        "\n",
        "plt.show()"
      ]
    },
    {
      "cell_type": "markdown",
      "metadata": {
        "id": "DsbcfNomFQDV"
      },
      "source": [
        "## Text Recognition"
      ]
    },
    {
      "cell_type": "markdown",
      "metadata": {
        "id": "nB62-yyrFzkE"
      },
      "source": [
        "### 1. Data Preparation"
      ]
    },
    {
      "cell_type": "code",
      "execution_count": 76,
      "metadata": {
        "colab": {
          "base_uri": "https://localhost:8080/"
        },
        "id": "zlZrG2UFljoE",
        "outputId": "b2e1ac6e-e194-48f1-e90f-372320c90004"
      },
      "outputs": [
        {
          "output_type": "stream",
          "name": "stdout",
          "text": [
            "2.8.2\n"
          ]
        }
      ],
      "source": [
        "import tensorflow as tf\n",
        "from keras.preprocessing.text import Tokenizer\n",
        "from tensorflow.keras.preprocessing.sequence import pad_sequences\n",
        "from jiwer import wer\n",
        "\n",
        "print(tf.__version__)"
      ]
    },
    {
      "cell_type": "code",
      "execution_count": null,
      "metadata": {
        "id": "guL71UbrEfJk"
      },
      "outputs": [],
      "source": [
        "with open('/content/drive/MyDrive/MLT2_Project/ImageAndXML_Data.json') as f:\n",
        "  data = json.load(f)"
      ]
    },
    {
      "cell_type": "code",
      "execution_count": null,
      "metadata": {
        "id": "qc4mJ6TmekIV"
      },
      "outputs": [],
      "source": [
        "data_parse = []\n",
        "for row in data:\n",
        "  for ann in row['annotation']:\n",
        "    data_parse.append({\n",
        "        'filename' : row['imageFilename'],\n",
        "        'height' : row['imageHeight'],\n",
        "        'width' : row['imageWidth'],\n",
        "        'bbox' : ann['bbox'],\n",
        "        'label' : ann['label'],\n",
        "        'word' : ann['word']\n",
        "    })"
      ]
    },
    {
      "cell_type": "code",
      "execution_count": null,
      "metadata": {
        "colab": {
          "base_uri": "https://localhost:8080/"
        },
        "id": "cw68J3aWfYGE",
        "outputId": "584e72eb-473e-4843-bf50-066e06ad53cb"
      },
      "outputs": [
        {
          "output_type": "execute_result",
          "data": {
            "text/plain": [
              "{'bbox': [331, 87, 403, 87, 403, 100, 331, 100],\n",
              " 'filename': '526509181+-9181.tif',\n",
              " 'height': '1000',\n",
              " 'label': 'invoice_info',\n",
              " 'width': '754',\n",
              " 'word': 'INVOICE'}"
            ]
          },
          "metadata": {},
          "execution_count": 173
        }
      ],
      "source": [
        "data_parse[0]"
      ]
    },
    {
      "cell_type": "code",
      "execution_count": null,
      "metadata": {
        "id": "l7b0JygrgxWN"
      },
      "outputs": [],
      "source": [
        "def save_train_img(data):\n",
        "    annot = open(\"/content/recognition_data/annotation.txt\", \"w\")\n",
        "    for idx, row in tqdm(enumerate(data)):\n",
        "        name = row['filename']\n",
        "        bbox = row['bbox']\n",
        "        word = row['word']\n",
        "\n",
        "        new_name = f\"{idx}_{name.replace('.tif','')}.png\"\n",
        "        img = cv2.imread(f\"/content/ImageAndXML_Data/{name}\")\n",
        "        temp_img = img[bbox[1]:bbox[-1], bbox[0]:bbox[2]]\n",
        "        status = cv2.imwrite(f\"/content/recognition_data/img/{new_name}\", temp_img)\n",
        "        annot.write(f\"img/{new_name} {word}\\n\")\n",
        "    annot.close()"
      ]
    },
    {
      "cell_type": "code",
      "execution_count": null,
      "metadata": {
        "colab": {
          "base_uri": "https://localhost:8080/",
          "referenced_widgets": [
            "b755a7df9402467dbdfff050f9c0902e",
            "fa410fc067014127bc59bea6e0cc6e62",
            "080d876df70e4496a29a61d892a2fb18",
            "d61e6dfa8cc444e2b21ef9a29e6858f8",
            "76e2dc19331149f8b8d9557421bbda27",
            "b0555d437c144a10b41c848c48bb5895",
            "58dba602383c47adaed54b8697b79abe",
            "fc4ca1704ada4ec69467aa478a825813",
            "ba7965812ee54476ab1612ababcef65c",
            "3590f1e8378842dc83c03ad3018c21bc",
            "970707e4014a46eabaa04a9f24d0ec8f"
          ]
        },
        "id": "QsFDCLBSkGfV",
        "outputId": "5cc6dbcb-d440-474c-f08a-eb87741fb6ac"
      },
      "outputs": [
        {
          "output_type": "display_data",
          "data": {
            "text/plain": [
              "0it [00:00, ?it/s]"
            ],
            "application/vnd.jupyter.widget-view+json": {
              "version_major": 2,
              "version_minor": 0,
              "model_id": "b755a7df9402467dbdfff050f9c0902e"
            }
          },
          "metadata": {}
        }
      ],
      "source": [
        "save_train_img(data_parse)"
      ]
    },
    {
      "cell_type": "code",
      "execution_count": null,
      "metadata": {
        "id": "i3K3HZjElJuX"
      },
      "outputs": [],
      "source": [
        "# !zip -r '/content/recognition_data.zip' '/content/recognition_data'\n",
        "# clear_output()"
      ]
    },
    {
      "cell_type": "code",
      "execution_count": null,
      "metadata": {
        "id": "IONjNwoVmEQL"
      },
      "outputs": [],
      "source": [
        "# shutil.copy2('/content/recognition_data.zip', '/content/gdrive/MyDrive/MLT2_Project/recognition_data.zip')"
      ]
    },
    {
      "cell_type": "code",
      "execution_count": null,
      "metadata": {
        "id": "oPqiCsdAlRat"
      },
      "outputs": [],
      "source": [
        "# from google.colab import files\n",
        "# files.download('/content/recognition_data.zip')"
      ]
    },
    {
      "cell_type": "code",
      "source": [
        "!unzip \"/content/drive/MyDrive/MLT2_Project/recognition_data.zip\" -d \"/content/\"\n",
        "clear_output()"
      ],
      "metadata": {
        "id": "oDjQVOcS_Es9"
      },
      "execution_count": 4,
      "outputs": []
    },
    {
      "cell_type": "markdown",
      "source": [
        "### 2. Data Preprocess"
      ],
      "metadata": {
        "id": "Sw7hxSze71Xl"
      }
    },
    {
      "cell_type": "code",
      "execution_count": 77,
      "metadata": {
        "id": "2vy_JzOLj123"
      },
      "outputs": [],
      "source": [
        "with open('/content/content/recognition_data/annotation.txt','r') as f:\n",
        "    data_rec = f.readlines()\n",
        "df_rec = pd.DataFrame([i.replace('\\n','').split(' ') for i in data_rec])\n",
        "df_rec.columns = ['filename', 'label']\n",
        "df_rec = df_rec[df_rec['label'].apply(lambda x: len(x))<=30].reset_index(drop=True)\n",
        "df_rec['filename'] = ['/content/content/recognition_data/'+i for i in df_rec['filename'].to_list()]"
      ]
    },
    {
      "cell_type": "code",
      "source": [
        "df_rec = df_rec.sample(frac=1).reset_index(drop=True)\n",
        "split = int(len(df_rec) * 0.85)\n",
        "df_train = df_rec[:split]\n",
        "df_val = df_rec[split:]"
      ],
      "metadata": {
        "id": "hNB0Zrsk7f2B"
      },
      "execution_count": 78,
      "outputs": []
    },
    {
      "cell_type": "code",
      "source": [
        "characters = df_rec['label'].str.split('').explode().value_counts().index[1:].to_list()\n",
        "\n",
        "char_to_num = tf.keras.layers.StringLookup(vocabulary=characters, oov_token=\"\")\n",
        "\n",
        "num_to_char = tf.keras.layers.StringLookup(\n",
        "    vocabulary=char_to_num.get_vocabulary(), oov_token=\"\", invert=True\n",
        ")"
      ],
      "metadata": {
        "id": "G6id4S_y76EI"
      },
      "execution_count": 79,
      "outputs": []
    },
    {
      "cell_type": "code",
      "source": [
        "WIDTH        = 64\n",
        "HEIGHT       = 64\n",
        "\n",
        "def encode_image(path, label):\n",
        "    img = tf.io.read_file(path)\n",
        "    img = tf.io.decode_png(img, channels=3)\n",
        "    img = tf.image.convert_image_dtype(img, tf.float32)\n",
        "    img = tf.image.resize(img, [WIDTH, HEIGHT])\n",
        "    label = char_to_num(label)\n",
        "    return img, label"
      ],
      "metadata": {
        "id": "Z2w9Wasz7emN"
      },
      "execution_count": 80,
      "outputs": []
    },
    {
      "cell_type": "code",
      "source": [
        "BATCH_SIZE = 128\n",
        "# Define the trainig dataset\n",
        "train_dataset = tf.data.Dataset.from_tensor_slices(\n",
        "    (list(df_train['filename']), list(df_train['label']))\n",
        ")\n",
        "train_dataset = (\n",
        "    train_dataset.map(encode_image, num_parallel_calls=tf.data.AUTOTUNE)\n",
        "    .padded_batch(BATCH_SIZE)\n",
        "    .prefetch(buffer_size=tf.data.AUTOTUNE)\n",
        ")\n",
        "\n",
        "# Define the validation dataset\n",
        "validation_dataset = tf.data.Dataset.from_tensor_slices(\n",
        "    (list(df_val[\"filename\"]), list(df_val['label']))\n",
        ")\n",
        "validation_dataset = (\n",
        "    validation_dataset.map(encode_image, num_parallel_calls=tf.data.AUTOTUNE)\n",
        "    .padded_batch(BATCH_SIZE)\n",
        "    .prefetch(buffer_size=tf.data.AUTOTUNE)\n",
        ")"
      ],
      "metadata": {
        "id": "42T4ABb-8aoW"
      },
      "execution_count": 81,
      "outputs": []
    },
    {
      "cell_type": "markdown",
      "metadata": {
        "id": "Eu2GL9F4LRJW"
      },
      "source": [
        "### 3. Build Model"
      ]
    },
    {
      "cell_type": "code",
      "source": [
        "def CTCLoss(y_true, y_pred):\n",
        "    # Compute the training-time loss value\n",
        "    batch_len = tf.cast(tf.shape(y_true)[0], dtype=\"int64\")\n",
        "    input_length = tf.cast(tf.shape(y_pred)[1], dtype=\"int64\")\n",
        "    label_length = tf.cast(tf.shape(y_true)[1], dtype=\"int64\")\n",
        "\n",
        "    input_length = input_length * tf.ones(shape=(batch_len, 1), dtype=\"int64\")\n",
        "    label_length = label_length * tf.ones(shape=(batch_len, 1), dtype=\"int64\")\n",
        "\n",
        "    loss = tf.keras.backend.ctc_batch_cost(y_true, y_pred, input_length, label_length)\n",
        "    return loss"
      ],
      "metadata": {
        "id": "Zpueuk13840f"
      },
      "execution_count": 82,
      "outputs": []
    },
    {
      "cell_type": "code",
      "source": [
        "class CTCLayer(tf.keras.layers.Layer):\n",
        "\n",
        "    def __init__(self, name=None):\n",
        "\n",
        "        super().__init__(name=name)\n",
        "        self.loss_fn = tf.keras.backend.ctc_batch_cost\n",
        "\n",
        "    def call(self, y_true, y_pred):\n",
        "        # Compute the training-time loss value and add it\n",
        "        # to the layer using `self.add_loss()`.\n",
        "\n",
        "        batch_len = tf.cast(tf.shape(y_true)[0], dtype=\"int64\")\n",
        "        input_length = tf.cast(tf.shape(y_pred)[1], dtype=\"int64\")\n",
        "        label_length = tf.cast(tf.shape(y_true)[1], dtype=\"int64\")\n",
        "\n",
        "        input_length = input_length * tf.ones(shape=(batch_len, 1), dtype=\"int64\")\n",
        "        label_length = label_length * tf.ones(shape=(batch_len, 1), dtype=\"int64\")\n",
        "\n",
        "\n",
        "        loss = self.loss_fn(y_true, y_pred, input_length, label_length)\n",
        "        self.add_loss(loss)\n",
        "\n",
        "        # At test time, just return the computed predictions\n",
        "        return y_pred"
      ],
      "metadata": {
        "id": "SKTkIalwqSly"
      },
      "execution_count": 83,
      "outputs": []
    },
    {
      "cell_type": "code",
      "execution_count": 90,
      "metadata": {
        "id": "N81x_c0dLTWi"
      },
      "outputs": [],
      "source": [
        "def define_model(width, height, num_classes):\n",
        "    # convolutional\n",
        "    model_input = tf.keras.layers.Input(shape=[64, 64, 3], name='image')\n",
        "    model_main = tf.keras.applications.vgg16.VGG16(include_top=False)(model_input)\n",
        "    model_dense1 = tf.keras.layers.Reshape((-1, 512), name='flatten7')(model_main)\n",
        "\n",
        "    # residual\n",
        "    model_dense2 = tf.keras.layers.Bidirectional(\n",
        "        tf.keras.layers.LSTM(units=256, return_sequences=True), name='bi_lstm1')(model_dense1)\n",
        "    model_dense3 = tf.keras.layers.Bidirectional(\n",
        "        tf.keras.layers.LSTM(units=256, return_sequences=True), name='bi_lstm2')(model_dense2)\n",
        "    model_dense4 = tf.keras.layers.Dense(units=num_classes, name='logits')(model_dense3)\n",
        "    model_out = tf.keras.layers.Dense(units=num_classes + 1, activation=\"softmax\")(model_dense4)\n",
        "\n",
        "    model = tf.keras.models.Model(inputs=model_input, outputs=model_out, name='crnn')\n",
        "    optimizer = tf.keras.optimizers.Adam(lr=0.00004, beta_1=0.9, beta_2=0.999)\n",
        "    model.compile(optimizer=optimizer, loss=CTCLoss)\n",
        "    return model"
      ]
    },
    {
      "cell_type": "code",
      "source": [
        "# A utility function to decode the output of the network\n",
        "def decode_batch_predictions(pred):\n",
        "    input_len = np.ones(pred.shape[0]) * pred.shape[1]\n",
        "    # Use greedy search. For complex tasks, you can use beam search\n",
        "    results = tf.keras.backend.ctc_decode(pred, input_length=input_len, greedy=True)[0][0]\n",
        "    # Iterate over the results and get back the text\n",
        "    output_text = []\n",
        "    for result in results:\n",
        "        result = tf.strings.reduce_join(num_to_char(result)).numpy().decode(\"utf-8\")\n",
        "        output_text.append(result)\n",
        "    return output_text\n",
        "\n",
        "\n",
        "# A callback class to output a few transcriptions during training\n",
        "class CallbackEval(tf.keras.callbacks.Callback):\n",
        "    \"\"\"Displays a batch of outputs after every epoch.\"\"\"\n",
        "\n",
        "    def __init__(self, dataset):\n",
        "        super().__init__()\n",
        "        self.dataset = dataset\n",
        "\n",
        "    def on_epoch_end(self, epoch: int, logs=None):\n",
        "        predictions = []\n",
        "        targets = []\n",
        "        for batch in self.dataset:\n",
        "            X, y = batch\n",
        "            batch_predictions = model.predict(X)\n",
        "            batch_predictions = decode_batch_predictions(batch_predictions)\n",
        "            predictions.extend(batch_predictions)\n",
        "            for label in y:\n",
        "                label = (\n",
        "                    tf.strings.reduce_join(num_to_char(label)).numpy().decode(\"utf-8\")\n",
        "                )\n",
        "                targets.append(label)\n",
        "        wer_score = wer(targets, predictions)\n",
        "        print(\"-\" * 100)\n",
        "        print(f\"Word Error Rate: {wer_score:.4f}\")\n",
        "        print(\"-\" * 100)\n",
        "        for i in np.random.randint(0, len(predictions), 2):\n",
        "            print(f\"Target    : {targets[i]}\")\n",
        "            print(f\"Prediction: {predictions[i]}\")\n",
        "            print(\"-\" * 100)"
      ],
      "metadata": {
        "id": "rdtTqEp7-N0W"
      },
      "execution_count": 91,
      "outputs": []
    },
    {
      "cell_type": "code",
      "execution_count": 92,
      "metadata": {
        "id": "9s-fNV8uSBy8"
      },
      "outputs": [],
      "source": [
        "def define_callbacks():\n",
        "  checkpoint = tf.keras.callbacks.ModelCheckpoint(\n",
        "      filepath='/content/drive/MyDrive/MLT2_Project/model_recognition.h5',\n",
        "      monitor='val_loss',\n",
        "      mode='min',\n",
        "      verbose=1\n",
        "  )\n",
        "\n",
        "  validation_callback = CallbackEval(validation_dataset)\n",
        "  return [checkpoint, validation_callback]"
      ]
    },
    {
      "cell_type": "code",
      "source": [
        "NB_EPOCH     = 10"
      ],
      "metadata": {
        "id": "0FYdGXioBlfo"
      },
      "execution_count": 93,
      "outputs": []
    },
    {
      "cell_type": "code",
      "source": [
        "NUM_CLASS = char_to_num.vocabulary_size()\n",
        "model = define_model(WIDTH, HEIGHT, NUM_CLASS)\n",
        "model.summary()\n",
        "save_callback = define_callbacks()"
      ],
      "metadata": {
        "colab": {
          "base_uri": "https://localhost:8080/"
        },
        "id": "fn4GxdY9Cmj9",
        "outputId": "1ea78a62-d688-4a9e-ff81-c95c4cc3d1b6"
      },
      "execution_count": 96,
      "outputs": [
        {
          "output_type": "stream",
          "name": "stdout",
          "text": [
            "Model: \"crnn\"\n",
            "_________________________________________________________________\n",
            " Layer (type)                Output Shape              Param #   \n",
            "=================================================================\n",
            " image (InputLayer)          [(None, 64, 64, 3)]       0         \n",
            "                                                                 \n",
            " vgg16 (Functional)          (None, None, None, 512)   14714688  \n",
            "                                                                 \n",
            " flatten7 (Reshape)          (None, 4, 512)            0         \n",
            "                                                                 \n",
            " bi_lstm1 (Bidirectional)    (None, 4, 512)            1574912   \n",
            "                                                                 \n",
            " bi_lstm2 (Bidirectional)    (None, 4, 512)            1574912   \n",
            "                                                                 \n",
            " logits (Dense)              (None, 4, 118)            60534     \n",
            "                                                                 \n",
            " dense (Dense)               (None, 4, 119)            14161     \n",
            "                                                                 \n",
            "=================================================================\n",
            "Total params: 17,939,207\n",
            "Trainable params: 17,939,207\n",
            "Non-trainable params: 0\n",
            "_________________________________________________________________\n"
          ]
        },
        {
          "output_type": "stream",
          "name": "stderr",
          "text": [
            "/usr/local/lib/python3.7/dist-packages/keras/optimizer_v2/adam.py:105: UserWarning: The `lr` argument is deprecated, use `learning_rate` instead.\n",
            "  super(Adam, self).__init__(name, **kwargs)\n"
          ]
        }
      ]
    },
    {
      "cell_type": "code",
      "source": [
        "history = model.fit(\n",
        "  train_data,\n",
        "  epochs = NB_EPOCH,\n",
        "  steps_per_epoch = 100,\n",
        "  validation_data = val_data,\n",
        "  validation_steps = 100,\n",
        "  callbacks = save_callback\n",
        ")"
      ],
      "metadata": {
        "colab": {
          "base_uri": "https://localhost:8080/",
          "height": 678
        },
        "id": "NIAM9sy0CxvN",
        "outputId": "7cdeb02b-6f5e-4b58-a1b1-5bf90a47627d"
      },
      "execution_count": 98,
      "outputs": [
        {
          "output_type": "stream",
          "name": "stdout",
          "text": [
            "Epoch 1/10\n"
          ]
        },
        {
          "output_type": "stream",
          "name": "stderr",
          "text": [
            "/usr/local/lib/python3.7/dist-packages/keras/engine/functional.py:559: UserWarning: Input dict contained keys ['label'] which did not match any model input. They will be ignored by the model.\n",
            "  inputs = self._flatten_to_reference_inputs(inputs)\n"
          ]
        },
        {
          "output_type": "error",
          "ename": "ValueError",
          "evalue": "ignored",
          "traceback": [
            "\u001b[0;31m---------------------------------------------------------------------------\u001b[0m",
            "\u001b[0;31mValueError\u001b[0m                                Traceback (most recent call last)",
            "\u001b[0;32m<ipython-input-98-4235560d5a84>\u001b[0m in \u001b[0;36m<module>\u001b[0;34m()\u001b[0m\n\u001b[1;32m      5\u001b[0m   \u001b[0mvalidation_data\u001b[0m \u001b[0;34m=\u001b[0m \u001b[0mval_data\u001b[0m\u001b[0;34m,\u001b[0m\u001b[0;34m\u001b[0m\u001b[0;34m\u001b[0m\u001b[0m\n\u001b[1;32m      6\u001b[0m   \u001b[0mvalidation_steps\u001b[0m \u001b[0;34m=\u001b[0m \u001b[0;36m100\u001b[0m\u001b[0;34m,\u001b[0m\u001b[0;34m\u001b[0m\u001b[0;34m\u001b[0m\u001b[0m\n\u001b[0;32m----> 7\u001b[0;31m   \u001b[0mcallbacks\u001b[0m \u001b[0;34m=\u001b[0m \u001b[0msave_callback\u001b[0m\u001b[0;34m\u001b[0m\u001b[0;34m\u001b[0m\u001b[0m\n\u001b[0m\u001b[1;32m      8\u001b[0m )\n",
            "\u001b[0;32m/usr/local/lib/python3.7/dist-packages/keras/utils/traceback_utils.py\u001b[0m in \u001b[0;36merror_handler\u001b[0;34m(*args, **kwargs)\u001b[0m\n\u001b[1;32m     65\u001b[0m     \u001b[0;32mexcept\u001b[0m \u001b[0mException\u001b[0m \u001b[0;32mas\u001b[0m \u001b[0me\u001b[0m\u001b[0;34m:\u001b[0m  \u001b[0;31m# pylint: disable=broad-except\u001b[0m\u001b[0;34m\u001b[0m\u001b[0;34m\u001b[0m\u001b[0m\n\u001b[1;32m     66\u001b[0m       \u001b[0mfiltered_tb\u001b[0m \u001b[0;34m=\u001b[0m \u001b[0m_process_traceback_frames\u001b[0m\u001b[0;34m(\u001b[0m\u001b[0me\u001b[0m\u001b[0;34m.\u001b[0m\u001b[0m__traceback__\u001b[0m\u001b[0;34m)\u001b[0m\u001b[0;34m\u001b[0m\u001b[0;34m\u001b[0m\u001b[0m\n\u001b[0;32m---> 67\u001b[0;31m       \u001b[0;32mraise\u001b[0m \u001b[0me\u001b[0m\u001b[0;34m.\u001b[0m\u001b[0mwith_traceback\u001b[0m\u001b[0;34m(\u001b[0m\u001b[0mfiltered_tb\u001b[0m\u001b[0;34m)\u001b[0m \u001b[0;32mfrom\u001b[0m \u001b[0;32mNone\u001b[0m\u001b[0;34m\u001b[0m\u001b[0;34m\u001b[0m\u001b[0m\n\u001b[0m\u001b[1;32m     68\u001b[0m     \u001b[0;32mfinally\u001b[0m\u001b[0;34m:\u001b[0m\u001b[0;34m\u001b[0m\u001b[0;34m\u001b[0m\u001b[0m\n\u001b[1;32m     69\u001b[0m       \u001b[0;32mdel\u001b[0m \u001b[0mfiltered_tb\u001b[0m\u001b[0;34m\u001b[0m\u001b[0;34m\u001b[0m\u001b[0m\n",
            "\u001b[0;32m/usr/local/lib/python3.7/dist-packages/tensorflow/python/framework/func_graph.py\u001b[0m in \u001b[0;36mautograph_handler\u001b[0;34m(*args, **kwargs)\u001b[0m\n\u001b[1;32m   1145\u001b[0m           \u001b[0;32mexcept\u001b[0m \u001b[0mException\u001b[0m \u001b[0;32mas\u001b[0m \u001b[0me\u001b[0m\u001b[0;34m:\u001b[0m  \u001b[0;31m# pylint:disable=broad-except\u001b[0m\u001b[0;34m\u001b[0m\u001b[0;34m\u001b[0m\u001b[0m\n\u001b[1;32m   1146\u001b[0m             \u001b[0;32mif\u001b[0m \u001b[0mhasattr\u001b[0m\u001b[0;34m(\u001b[0m\u001b[0me\u001b[0m\u001b[0;34m,\u001b[0m \u001b[0;34m\"ag_error_metadata\"\u001b[0m\u001b[0;34m)\u001b[0m\u001b[0;34m:\u001b[0m\u001b[0;34m\u001b[0m\u001b[0;34m\u001b[0m\u001b[0m\n\u001b[0;32m-> 1147\u001b[0;31m               \u001b[0;32mraise\u001b[0m \u001b[0me\u001b[0m\u001b[0;34m.\u001b[0m\u001b[0mag_error_metadata\u001b[0m\u001b[0;34m.\u001b[0m\u001b[0mto_exception\u001b[0m\u001b[0;34m(\u001b[0m\u001b[0me\u001b[0m\u001b[0;34m)\u001b[0m\u001b[0;34m\u001b[0m\u001b[0;34m\u001b[0m\u001b[0m\n\u001b[0m\u001b[1;32m   1148\u001b[0m             \u001b[0;32melse\u001b[0m\u001b[0;34m:\u001b[0m\u001b[0;34m\u001b[0m\u001b[0;34m\u001b[0m\u001b[0m\n\u001b[1;32m   1149\u001b[0m               \u001b[0;32mraise\u001b[0m\u001b[0;34m\u001b[0m\u001b[0;34m\u001b[0m\u001b[0m\n",
            "\u001b[0;31mValueError\u001b[0m: in user code:\n\n    File \"/usr/local/lib/python3.7/dist-packages/keras/engine/training.py\", line 1021, in train_function  *\n        return step_function(self, iterator)\n    File \"/usr/local/lib/python3.7/dist-packages/keras/engine/training.py\", line 1010, in step_function  **\n        outputs = model.distribute_strategy.run(run_step, args=(data,))\n    File \"/usr/local/lib/python3.7/dist-packages/keras/engine/training.py\", line 1000, in run_step  **\n        outputs = model.train_step(data)\n    File \"/usr/local/lib/python3.7/dist-packages/keras/engine/training.py\", line 861, in train_step\n        self._validate_target_and_loss(y, loss)\n    File \"/usr/local/lib/python3.7/dist-packages/keras/engine/training.py\", line 819, in _validate_target_and_loss\n        'Target data is missing. Your model was compiled with '\n\n    ValueError: Target data is missing. Your model was compiled with loss=<function CTCLoss at 0x7fc104f1c9e0>, and therefore expects target data to be provided in `fit()`.\n"
          ]
        }
      ]
    },
    {
      "cell_type": "code",
      "source": [
        ""
      ],
      "metadata": {
        "id": "Dy_2ZHsAuj6v"
      },
      "execution_count": null,
      "outputs": []
    }
  ],
  "metadata": {
    "colab": {
      "collapsed_sections": [
        "CLOMn3VRmmy1",
        "NDSshAv1mo9-",
        "vHvL04FCm0Zj",
        "wef_85q0HexA",
        "1AMNiGGF4zXe",
        "x8-5qNHOHVuE",
        "6Sxtkq-EwJZx"
      ],
      "name": "OCR receipt.ipynb",
      "provenance": []
    },
    "gpuClass": "standard",
    "kernelspec": {
      "display_name": "Python 3",
      "name": "python3"
    },
    "language_info": {
      "name": "python"
    },
    "widgets": {
      "application/vnd.jupyter.widget-state+json": {
        "03f27a5d0c7f405fa9e98b74bd587ecf": {
          "model_module": "@jupyter-widgets/controls",
          "model_module_version": "1.5.0",
          "model_name": "DescriptionStyleModel",
          "state": {
            "_model_module": "@jupyter-widgets/controls",
            "_model_module_version": "1.5.0",
            "_model_name": "DescriptionStyleModel",
            "_view_count": null,
            "_view_module": "@jupyter-widgets/base",
            "_view_module_version": "1.2.0",
            "_view_name": "StyleView",
            "description_width": ""
          }
        },
        "15c3eb9432fc4d1fa79fa566afbdfd5b": {
          "model_module": "@jupyter-widgets/controls",
          "model_module_version": "1.5.0",
          "model_name": "HBoxModel",
          "state": {
            "_dom_classes": [],
            "_model_module": "@jupyter-widgets/controls",
            "_model_module_version": "1.5.0",
            "_model_name": "HBoxModel",
            "_view_count": null,
            "_view_module": "@jupyter-widgets/controls",
            "_view_module_version": "1.5.0",
            "_view_name": "HBoxView",
            "box_style": "",
            "children": [
              "IPY_MODEL_b1734adc69564cdea4582875d24bbb69",
              "IPY_MODEL_7fd7efb3926a4e7eb221d2f89cec269b",
              "IPY_MODEL_ba6b98dde2c441b1b04454a0b22b4d46"
            ],
            "layout": "IPY_MODEL_600b6b620ab34c739d476d765a9de7fb"
          }
        },
        "22e0445eb8aa4cd585425db6a04c6f2a": {
          "model_module": "@jupyter-widgets/controls",
          "model_module_version": "1.5.0",
          "model_name": "DescriptionStyleModel",
          "state": {
            "_model_module": "@jupyter-widgets/controls",
            "_model_module_version": "1.5.0",
            "_model_name": "DescriptionStyleModel",
            "_view_count": null,
            "_view_module": "@jupyter-widgets/base",
            "_view_module_version": "1.2.0",
            "_view_name": "StyleView",
            "description_width": ""
          }
        },
        "29ffb970294a4f0e85de364bea7f0028": {
          "model_module": "@jupyter-widgets/controls",
          "model_module_version": "1.5.0",
          "model_name": "HBoxModel",
          "state": {
            "_dom_classes": [],
            "_model_module": "@jupyter-widgets/controls",
            "_model_module_version": "1.5.0",
            "_model_name": "HBoxModel",
            "_view_count": null,
            "_view_module": "@jupyter-widgets/controls",
            "_view_module_version": "1.5.0",
            "_view_name": "HBoxView",
            "box_style": "",
            "children": [
              "IPY_MODEL_c6f8647075b942f0b20fff6070c77262",
              "IPY_MODEL_7aa666cc32a94dd5b2490e6e44f7384d",
              "IPY_MODEL_e9a869b5019f46eb8e908e12afb9c418"
            ],
            "layout": "IPY_MODEL_7aebc6aadb4347689fa86dc0418a2307"
          }
        },
        "31fe1174965b4b96a6744c46be96e8cd": {
          "model_module": "@jupyter-widgets/base",
          "model_module_version": "1.2.0",
          "model_name": "LayoutModel",
          "state": {
            "_model_module": "@jupyter-widgets/base",
            "_model_module_version": "1.2.0",
            "_model_name": "LayoutModel",
            "_view_count": null,
            "_view_module": "@jupyter-widgets/base",
            "_view_module_version": "1.2.0",
            "_view_name": "LayoutView",
            "align_content": null,
            "align_items": null,
            "align_self": null,
            "border": null,
            "bottom": null,
            "display": null,
            "flex": null,
            "flex_flow": null,
            "grid_area": null,
            "grid_auto_columns": null,
            "grid_auto_flow": null,
            "grid_auto_rows": null,
            "grid_column": null,
            "grid_gap": null,
            "grid_row": null,
            "grid_template_areas": null,
            "grid_template_columns": null,
            "grid_template_rows": null,
            "height": null,
            "justify_content": null,
            "justify_items": null,
            "left": null,
            "margin": null,
            "max_height": null,
            "max_width": null,
            "min_height": null,
            "min_width": null,
            "object_fit": null,
            "object_position": null,
            "order": null,
            "overflow": null,
            "overflow_x": null,
            "overflow_y": null,
            "padding": null,
            "right": null,
            "top": null,
            "visibility": null,
            "width": null
          }
        },
        "32adf27015d245479a33b2620347865b": {
          "model_module": "@jupyter-widgets/base",
          "model_module_version": "1.2.0",
          "model_name": "LayoutModel",
          "state": {
            "_model_module": "@jupyter-widgets/base",
            "_model_module_version": "1.2.0",
            "_model_name": "LayoutModel",
            "_view_count": null,
            "_view_module": "@jupyter-widgets/base",
            "_view_module_version": "1.2.0",
            "_view_name": "LayoutView",
            "align_content": null,
            "align_items": null,
            "align_self": null,
            "border": null,
            "bottom": null,
            "display": null,
            "flex": null,
            "flex_flow": null,
            "grid_area": null,
            "grid_auto_columns": null,
            "grid_auto_flow": null,
            "grid_auto_rows": null,
            "grid_column": null,
            "grid_gap": null,
            "grid_row": null,
            "grid_template_areas": null,
            "grid_template_columns": null,
            "grid_template_rows": null,
            "height": null,
            "justify_content": null,
            "justify_items": null,
            "left": null,
            "margin": null,
            "max_height": null,
            "max_width": null,
            "min_height": null,
            "min_width": null,
            "object_fit": null,
            "object_position": null,
            "order": null,
            "overflow": null,
            "overflow_x": null,
            "overflow_y": null,
            "padding": null,
            "right": null,
            "top": null,
            "visibility": null,
            "width": null
          }
        },
        "37bbf804367147889911bbc267b033be": {
          "model_module": "@jupyter-widgets/controls",
          "model_module_version": "1.5.0",
          "model_name": "DescriptionStyleModel",
          "state": {
            "_model_module": "@jupyter-widgets/controls",
            "_model_module_version": "1.5.0",
            "_model_name": "DescriptionStyleModel",
            "_view_count": null,
            "_view_module": "@jupyter-widgets/base",
            "_view_module_version": "1.2.0",
            "_view_name": "StyleView",
            "description_width": ""
          }
        },
        "420c3dc11e4049118be999f91ee7819c": {
          "model_module": "@jupyter-widgets/base",
          "model_module_version": "1.2.0",
          "model_name": "LayoutModel",
          "state": {
            "_model_module": "@jupyter-widgets/base",
            "_model_module_version": "1.2.0",
            "_model_name": "LayoutModel",
            "_view_count": null,
            "_view_module": "@jupyter-widgets/base",
            "_view_module_version": "1.2.0",
            "_view_name": "LayoutView",
            "align_content": null,
            "align_items": null,
            "align_self": null,
            "border": null,
            "bottom": null,
            "display": null,
            "flex": null,
            "flex_flow": null,
            "grid_area": null,
            "grid_auto_columns": null,
            "grid_auto_flow": null,
            "grid_auto_rows": null,
            "grid_column": null,
            "grid_gap": null,
            "grid_row": null,
            "grid_template_areas": null,
            "grid_template_columns": null,
            "grid_template_rows": null,
            "height": null,
            "justify_content": null,
            "justify_items": null,
            "left": null,
            "margin": null,
            "max_height": null,
            "max_width": null,
            "min_height": null,
            "min_width": null,
            "object_fit": null,
            "object_position": null,
            "order": null,
            "overflow": null,
            "overflow_x": null,
            "overflow_y": null,
            "padding": null,
            "right": null,
            "top": null,
            "visibility": null,
            "width": null
          }
        },
        "44682db8734f467c9683f6386c37c337": {
          "model_module": "@jupyter-widgets/base",
          "model_module_version": "1.2.0",
          "model_name": "LayoutModel",
          "state": {
            "_model_module": "@jupyter-widgets/base",
            "_model_module_version": "1.2.0",
            "_model_name": "LayoutModel",
            "_view_count": null,
            "_view_module": "@jupyter-widgets/base",
            "_view_module_version": "1.2.0",
            "_view_name": "LayoutView",
            "align_content": null,
            "align_items": null,
            "align_self": null,
            "border": null,
            "bottom": null,
            "display": null,
            "flex": null,
            "flex_flow": null,
            "grid_area": null,
            "grid_auto_columns": null,
            "grid_auto_flow": null,
            "grid_auto_rows": null,
            "grid_column": null,
            "grid_gap": null,
            "grid_row": null,
            "grid_template_areas": null,
            "grid_template_columns": null,
            "grid_template_rows": null,
            "height": null,
            "justify_content": null,
            "justify_items": null,
            "left": null,
            "margin": null,
            "max_height": null,
            "max_width": null,
            "min_height": null,
            "min_width": null,
            "object_fit": null,
            "object_position": null,
            "order": null,
            "overflow": null,
            "overflow_x": null,
            "overflow_y": null,
            "padding": null,
            "right": null,
            "top": null,
            "visibility": null,
            "width": null
          }
        },
        "4c19ac161cd04ac99e981ef74af59ce1": {
          "model_module": "@jupyter-widgets/controls",
          "model_module_version": "1.5.0",
          "model_name": "HTMLModel",
          "state": {
            "_dom_classes": [],
            "_model_module": "@jupyter-widgets/controls",
            "_model_module_version": "1.5.0",
            "_model_name": "HTMLModel",
            "_view_count": null,
            "_view_module": "@jupyter-widgets/controls",
            "_view_module_version": "1.5.0",
            "_view_name": "HTMLView",
            "description": "",
            "description_tooltip": null,
            "layout": "IPY_MODEL_e42312591f8447d6b9e49f301dbd8998",
            "placeholder": "​",
            "style": "IPY_MODEL_37bbf804367147889911bbc267b033be",
            "value": " 520/520 [00:00&lt;00:00, 760.18it/s]"
          }
        },
        "530b8bab521944d2b54a98592ca906c7": {
          "model_module": "@jupyter-widgets/controls",
          "model_module_version": "1.5.0",
          "model_name": "DescriptionStyleModel",
          "state": {
            "_model_module": "@jupyter-widgets/controls",
            "_model_module_version": "1.5.0",
            "_model_name": "DescriptionStyleModel",
            "_view_count": null,
            "_view_module": "@jupyter-widgets/base",
            "_view_module_version": "1.2.0",
            "_view_name": "StyleView",
            "description_width": ""
          }
        },
        "54138fc0fc974d0389ca5001306d8153": {
          "model_module": "@jupyter-widgets/base",
          "model_module_version": "1.2.0",
          "model_name": "LayoutModel",
          "state": {
            "_model_module": "@jupyter-widgets/base",
            "_model_module_version": "1.2.0",
            "_model_name": "LayoutModel",
            "_view_count": null,
            "_view_module": "@jupyter-widgets/base",
            "_view_module_version": "1.2.0",
            "_view_name": "LayoutView",
            "align_content": null,
            "align_items": null,
            "align_self": null,
            "border": null,
            "bottom": null,
            "display": null,
            "flex": null,
            "flex_flow": null,
            "grid_area": null,
            "grid_auto_columns": null,
            "grid_auto_flow": null,
            "grid_auto_rows": null,
            "grid_column": null,
            "grid_gap": null,
            "grid_row": null,
            "grid_template_areas": null,
            "grid_template_columns": null,
            "grid_template_rows": null,
            "height": null,
            "justify_content": null,
            "justify_items": null,
            "left": null,
            "margin": null,
            "max_height": null,
            "max_width": null,
            "min_height": null,
            "min_width": null,
            "object_fit": null,
            "object_position": null,
            "order": null,
            "overflow": null,
            "overflow_x": null,
            "overflow_y": null,
            "padding": null,
            "right": null,
            "top": null,
            "visibility": null,
            "width": null
          }
        },
        "600b6b620ab34c739d476d765a9de7fb": {
          "model_module": "@jupyter-widgets/base",
          "model_module_version": "1.2.0",
          "model_name": "LayoutModel",
          "state": {
            "_model_module": "@jupyter-widgets/base",
            "_model_module_version": "1.2.0",
            "_model_name": "LayoutModel",
            "_view_count": null,
            "_view_module": "@jupyter-widgets/base",
            "_view_module_version": "1.2.0",
            "_view_name": "LayoutView",
            "align_content": null,
            "align_items": null,
            "align_self": null,
            "border": null,
            "bottom": null,
            "display": null,
            "flex": null,
            "flex_flow": null,
            "grid_area": null,
            "grid_auto_columns": null,
            "grid_auto_flow": null,
            "grid_auto_rows": null,
            "grid_column": null,
            "grid_gap": null,
            "grid_row": null,
            "grid_template_areas": null,
            "grid_template_columns": null,
            "grid_template_rows": null,
            "height": null,
            "justify_content": null,
            "justify_items": null,
            "left": null,
            "margin": null,
            "max_height": null,
            "max_width": null,
            "min_height": null,
            "min_width": null,
            "object_fit": null,
            "object_position": null,
            "order": null,
            "overflow": null,
            "overflow_x": null,
            "overflow_y": null,
            "padding": null,
            "right": null,
            "top": null,
            "visibility": null,
            "width": null
          }
        },
        "64a402a1a26b44c88b116ab9f27df86c": {
          "model_module": "@jupyter-widgets/controls",
          "model_module_version": "1.5.0",
          "model_name": "ProgressStyleModel",
          "state": {
            "_model_module": "@jupyter-widgets/controls",
            "_model_module_version": "1.5.0",
            "_model_name": "ProgressStyleModel",
            "_view_count": null,
            "_view_module": "@jupyter-widgets/base",
            "_view_module_version": "1.2.0",
            "_view_name": "StyleView",
            "bar_color": null,
            "description_width": ""
          }
        },
        "718af8c8d6844d1b9fc194e97236001b": {
          "model_module": "@jupyter-widgets/base",
          "model_module_version": "1.2.0",
          "model_name": "LayoutModel",
          "state": {
            "_model_module": "@jupyter-widgets/base",
            "_model_module_version": "1.2.0",
            "_model_name": "LayoutModel",
            "_view_count": null,
            "_view_module": "@jupyter-widgets/base",
            "_view_module_version": "1.2.0",
            "_view_name": "LayoutView",
            "align_content": null,
            "align_items": null,
            "align_self": null,
            "border": null,
            "bottom": null,
            "display": null,
            "flex": null,
            "flex_flow": null,
            "grid_area": null,
            "grid_auto_columns": null,
            "grid_auto_flow": null,
            "grid_auto_rows": null,
            "grid_column": null,
            "grid_gap": null,
            "grid_row": null,
            "grid_template_areas": null,
            "grid_template_columns": null,
            "grid_template_rows": null,
            "height": null,
            "justify_content": null,
            "justify_items": null,
            "left": null,
            "margin": null,
            "max_height": null,
            "max_width": null,
            "min_height": null,
            "min_width": null,
            "object_fit": null,
            "object_position": null,
            "order": null,
            "overflow": null,
            "overflow_x": null,
            "overflow_y": null,
            "padding": null,
            "right": null,
            "top": null,
            "visibility": null,
            "width": null
          }
        },
        "73949cc70eaf49aebb9022b649521b93": {
          "model_module": "@jupyter-widgets/controls",
          "model_module_version": "1.5.0",
          "model_name": "HBoxModel",
          "state": {
            "_dom_classes": [],
            "_model_module": "@jupyter-widgets/controls",
            "_model_module_version": "1.5.0",
            "_model_name": "HBoxModel",
            "_view_count": null,
            "_view_module": "@jupyter-widgets/controls",
            "_view_module_version": "1.5.0",
            "_view_name": "HBoxView",
            "box_style": "",
            "children": [
              "IPY_MODEL_9efda443139947adaa02c4bb43701af2",
              "IPY_MODEL_d2122f7a322241ce83fa05e8101d626b",
              "IPY_MODEL_4c19ac161cd04ac99e981ef74af59ce1"
            ],
            "layout": "IPY_MODEL_420c3dc11e4049118be999f91ee7819c"
          }
        },
        "7aa666cc32a94dd5b2490e6e44f7384d": {
          "model_module": "@jupyter-widgets/controls",
          "model_module_version": "1.5.0",
          "model_name": "FloatProgressModel",
          "state": {
            "_dom_classes": [],
            "_model_module": "@jupyter-widgets/controls",
            "_model_module_version": "1.5.0",
            "_model_name": "FloatProgressModel",
            "_view_count": null,
            "_view_module": "@jupyter-widgets/controls",
            "_view_module_version": "1.5.0",
            "_view_name": "ProgressView",
            "bar_style": "success",
            "description": "",
            "description_tooltip": null,
            "layout": "IPY_MODEL_31fe1174965b4b96a6744c46be96e8cd",
            "max": 520,
            "min": 0,
            "orientation": "horizontal",
            "style": "IPY_MODEL_64a402a1a26b44c88b116ab9f27df86c",
            "value": 520
          }
        },
        "7aebc6aadb4347689fa86dc0418a2307": {
          "model_module": "@jupyter-widgets/base",
          "model_module_version": "1.2.0",
          "model_name": "LayoutModel",
          "state": {
            "_model_module": "@jupyter-widgets/base",
            "_model_module_version": "1.2.0",
            "_model_name": "LayoutModel",
            "_view_count": null,
            "_view_module": "@jupyter-widgets/base",
            "_view_module_version": "1.2.0",
            "_view_name": "LayoutView",
            "align_content": null,
            "align_items": null,
            "align_self": null,
            "border": null,
            "bottom": null,
            "display": null,
            "flex": null,
            "flex_flow": null,
            "grid_area": null,
            "grid_auto_columns": null,
            "grid_auto_flow": null,
            "grid_auto_rows": null,
            "grid_column": null,
            "grid_gap": null,
            "grid_row": null,
            "grid_template_areas": null,
            "grid_template_columns": null,
            "grid_template_rows": null,
            "height": null,
            "justify_content": null,
            "justify_items": null,
            "left": null,
            "margin": null,
            "max_height": null,
            "max_width": null,
            "min_height": null,
            "min_width": null,
            "object_fit": null,
            "object_position": null,
            "order": null,
            "overflow": null,
            "overflow_x": null,
            "overflow_y": null,
            "padding": null,
            "right": null,
            "top": null,
            "visibility": null,
            "width": null
          }
        },
        "7fd7efb3926a4e7eb221d2f89cec269b": {
          "model_module": "@jupyter-widgets/controls",
          "model_module_version": "1.5.0",
          "model_name": "FloatProgressModel",
          "state": {
            "_dom_classes": [],
            "_model_module": "@jupyter-widgets/controls",
            "_model_module_version": "1.5.0",
            "_model_name": "FloatProgressModel",
            "_view_count": null,
            "_view_module": "@jupyter-widgets/controls",
            "_view_module_version": "1.5.0",
            "_view_name": "ProgressView",
            "bar_style": "success",
            "description": "",
            "description_tooltip": null,
            "layout": "IPY_MODEL_a5a322304744416fbcbcfeb6de8b90d3",
            "max": 1,
            "min": 0,
            "orientation": "horizontal",
            "style": "IPY_MODEL_d2e8b96f4d854ec7a8031c4cbcaa4836",
            "value": 1
          }
        },
        "889a975f31b94922b0dae30c426d7bdb": {
          "model_module": "@jupyter-widgets/base",
          "model_module_version": "1.2.0",
          "model_name": "LayoutModel",
          "state": {
            "_model_module": "@jupyter-widgets/base",
            "_model_module_version": "1.2.0",
            "_model_name": "LayoutModel",
            "_view_count": null,
            "_view_module": "@jupyter-widgets/base",
            "_view_module_version": "1.2.0",
            "_view_name": "LayoutView",
            "align_content": null,
            "align_items": null,
            "align_self": null,
            "border": null,
            "bottom": null,
            "display": null,
            "flex": null,
            "flex_flow": null,
            "grid_area": null,
            "grid_auto_columns": null,
            "grid_auto_flow": null,
            "grid_auto_rows": null,
            "grid_column": null,
            "grid_gap": null,
            "grid_row": null,
            "grid_template_areas": null,
            "grid_template_columns": null,
            "grid_template_rows": null,
            "height": null,
            "justify_content": null,
            "justify_items": null,
            "left": null,
            "margin": null,
            "max_height": null,
            "max_width": null,
            "min_height": null,
            "min_width": null,
            "object_fit": null,
            "object_position": null,
            "order": null,
            "overflow": null,
            "overflow_x": null,
            "overflow_y": null,
            "padding": null,
            "right": null,
            "top": null,
            "visibility": null,
            "width": null
          }
        },
        "9efda443139947adaa02c4bb43701af2": {
          "model_module": "@jupyter-widgets/controls",
          "model_module_version": "1.5.0",
          "model_name": "HTMLModel",
          "state": {
            "_dom_classes": [],
            "_model_module": "@jupyter-widgets/controls",
            "_model_module_version": "1.5.0",
            "_model_name": "HTMLModel",
            "_view_count": null,
            "_view_module": "@jupyter-widgets/controls",
            "_view_module_version": "1.5.0",
            "_view_name": "HTMLView",
            "description": "",
            "description_tooltip": null,
            "layout": "IPY_MODEL_44682db8734f467c9683f6386c37c337",
            "placeholder": "​",
            "style": "IPY_MODEL_530b8bab521944d2b54a98592ca906c7",
            "value": "100%"
          }
        },
        "a01fc96bcae6421ab0e475994da4d43a": {
          "model_module": "@jupyter-widgets/base",
          "model_module_version": "1.2.0",
          "model_name": "LayoutModel",
          "state": {
            "_model_module": "@jupyter-widgets/base",
            "_model_module_version": "1.2.0",
            "_model_name": "LayoutModel",
            "_view_count": null,
            "_view_module": "@jupyter-widgets/base",
            "_view_module_version": "1.2.0",
            "_view_name": "LayoutView",
            "align_content": null,
            "align_items": null,
            "align_self": null,
            "border": null,
            "bottom": null,
            "display": null,
            "flex": null,
            "flex_flow": null,
            "grid_area": null,
            "grid_auto_columns": null,
            "grid_auto_flow": null,
            "grid_auto_rows": null,
            "grid_column": null,
            "grid_gap": null,
            "grid_row": null,
            "grid_template_areas": null,
            "grid_template_columns": null,
            "grid_template_rows": null,
            "height": null,
            "justify_content": null,
            "justify_items": null,
            "left": null,
            "margin": null,
            "max_height": null,
            "max_width": null,
            "min_height": null,
            "min_width": null,
            "object_fit": null,
            "object_position": null,
            "order": null,
            "overflow": null,
            "overflow_x": null,
            "overflow_y": null,
            "padding": null,
            "right": null,
            "top": null,
            "visibility": null,
            "width": null
          }
        },
        "a5a322304744416fbcbcfeb6de8b90d3": {
          "model_module": "@jupyter-widgets/base",
          "model_module_version": "1.2.0",
          "model_name": "LayoutModel",
          "state": {
            "_model_module": "@jupyter-widgets/base",
            "_model_module_version": "1.2.0",
            "_model_name": "LayoutModel",
            "_view_count": null,
            "_view_module": "@jupyter-widgets/base",
            "_view_module_version": "1.2.0",
            "_view_name": "LayoutView",
            "align_content": null,
            "align_items": null,
            "align_self": null,
            "border": null,
            "bottom": null,
            "display": null,
            "flex": null,
            "flex_flow": null,
            "grid_area": null,
            "grid_auto_columns": null,
            "grid_auto_flow": null,
            "grid_auto_rows": null,
            "grid_column": null,
            "grid_gap": null,
            "grid_row": null,
            "grid_template_areas": null,
            "grid_template_columns": null,
            "grid_template_rows": null,
            "height": null,
            "justify_content": null,
            "justify_items": null,
            "left": null,
            "margin": null,
            "max_height": null,
            "max_width": null,
            "min_height": null,
            "min_width": null,
            "object_fit": null,
            "object_position": null,
            "order": null,
            "overflow": null,
            "overflow_x": null,
            "overflow_y": null,
            "padding": null,
            "right": null,
            "top": null,
            "visibility": null,
            "width": "20px"
          }
        },
        "ad5d93d3d815406d96aa035be31eeb69": {
          "model_module": "@jupyter-widgets/controls",
          "model_module_version": "1.5.0",
          "model_name": "ProgressStyleModel",
          "state": {
            "_model_module": "@jupyter-widgets/controls",
            "_model_module_version": "1.5.0",
            "_model_name": "ProgressStyleModel",
            "_view_count": null,
            "_view_module": "@jupyter-widgets/base",
            "_view_module_version": "1.2.0",
            "_view_name": "StyleView",
            "bar_color": null,
            "description_width": ""
          }
        },
        "b1734adc69564cdea4582875d24bbb69": {
          "model_module": "@jupyter-widgets/controls",
          "model_module_version": "1.5.0",
          "model_name": "HTMLModel",
          "state": {
            "_dom_classes": [],
            "_model_module": "@jupyter-widgets/controls",
            "_model_module_version": "1.5.0",
            "_model_name": "HTMLModel",
            "_view_count": null,
            "_view_module": "@jupyter-widgets/controls",
            "_view_module_version": "1.5.0",
            "_view_name": "HTMLView",
            "description": "",
            "description_tooltip": null,
            "layout": "IPY_MODEL_a01fc96bcae6421ab0e475994da4d43a",
            "placeholder": "​",
            "style": "IPY_MODEL_22e0445eb8aa4cd585425db6a04c6f2a",
            "value": ""
          }
        },
        "ba6b98dde2c441b1b04454a0b22b4d46": {
          "model_module": "@jupyter-widgets/controls",
          "model_module_version": "1.5.0",
          "model_name": "HTMLModel",
          "state": {
            "_dom_classes": [],
            "_model_module": "@jupyter-widgets/controls",
            "_model_module_version": "1.5.0",
            "_model_name": "HTMLModel",
            "_view_count": null,
            "_view_module": "@jupyter-widgets/controls",
            "_view_module_version": "1.5.0",
            "_view_name": "HTMLView",
            "description": "",
            "description_tooltip": null,
            "layout": "IPY_MODEL_32adf27015d245479a33b2620347865b",
            "placeholder": "​",
            "style": "IPY_MODEL_03f27a5d0c7f405fa9e98b74bd587ecf",
            "value": " 38924/? [02:44&lt;00:00, 178.41it/s]"
          }
        },
        "c6f8647075b942f0b20fff6070c77262": {
          "model_module": "@jupyter-widgets/controls",
          "model_module_version": "1.5.0",
          "model_name": "HTMLModel",
          "state": {
            "_dom_classes": [],
            "_model_module": "@jupyter-widgets/controls",
            "_model_module_version": "1.5.0",
            "_model_name": "HTMLModel",
            "_view_count": null,
            "_view_module": "@jupyter-widgets/controls",
            "_view_module_version": "1.5.0",
            "_view_name": "HTMLView",
            "description": "",
            "description_tooltip": null,
            "layout": "IPY_MODEL_54138fc0fc974d0389ca5001306d8153",
            "placeholder": "​",
            "style": "IPY_MODEL_f8e11dd4b582426abfbbaa73c4a715b0",
            "value": "100%"
          }
        },
        "d2122f7a322241ce83fa05e8101d626b": {
          "model_module": "@jupyter-widgets/controls",
          "model_module_version": "1.5.0",
          "model_name": "FloatProgressModel",
          "state": {
            "_dom_classes": [],
            "_model_module": "@jupyter-widgets/controls",
            "_model_module_version": "1.5.0",
            "_model_name": "FloatProgressModel",
            "_view_count": null,
            "_view_module": "@jupyter-widgets/controls",
            "_view_module_version": "1.5.0",
            "_view_name": "ProgressView",
            "bar_style": "success",
            "description": "",
            "description_tooltip": null,
            "layout": "IPY_MODEL_889a975f31b94922b0dae30c426d7bdb",
            "max": 520,
            "min": 0,
            "orientation": "horizontal",
            "style": "IPY_MODEL_ad5d93d3d815406d96aa035be31eeb69",
            "value": 520
          }
        },
        "d2e8b96f4d854ec7a8031c4cbcaa4836": {
          "model_module": "@jupyter-widgets/controls",
          "model_module_version": "1.5.0",
          "model_name": "ProgressStyleModel",
          "state": {
            "_model_module": "@jupyter-widgets/controls",
            "_model_module_version": "1.5.0",
            "_model_name": "ProgressStyleModel",
            "_view_count": null,
            "_view_module": "@jupyter-widgets/base",
            "_view_module_version": "1.2.0",
            "_view_name": "StyleView",
            "bar_color": null,
            "description_width": ""
          }
        },
        "e42312591f8447d6b9e49f301dbd8998": {
          "model_module": "@jupyter-widgets/base",
          "model_module_version": "1.2.0",
          "model_name": "LayoutModel",
          "state": {
            "_model_module": "@jupyter-widgets/base",
            "_model_module_version": "1.2.0",
            "_model_name": "LayoutModel",
            "_view_count": null,
            "_view_module": "@jupyter-widgets/base",
            "_view_module_version": "1.2.0",
            "_view_name": "LayoutView",
            "align_content": null,
            "align_items": null,
            "align_self": null,
            "border": null,
            "bottom": null,
            "display": null,
            "flex": null,
            "flex_flow": null,
            "grid_area": null,
            "grid_auto_columns": null,
            "grid_auto_flow": null,
            "grid_auto_rows": null,
            "grid_column": null,
            "grid_gap": null,
            "grid_row": null,
            "grid_template_areas": null,
            "grid_template_columns": null,
            "grid_template_rows": null,
            "height": null,
            "justify_content": null,
            "justify_items": null,
            "left": null,
            "margin": null,
            "max_height": null,
            "max_width": null,
            "min_height": null,
            "min_width": null,
            "object_fit": null,
            "object_position": null,
            "order": null,
            "overflow": null,
            "overflow_x": null,
            "overflow_y": null,
            "padding": null,
            "right": null,
            "top": null,
            "visibility": null,
            "width": null
          }
        },
        "e9a869b5019f46eb8e908e12afb9c418": {
          "model_module": "@jupyter-widgets/controls",
          "model_module_version": "1.5.0",
          "model_name": "HTMLModel",
          "state": {
            "_dom_classes": [],
            "_model_module": "@jupyter-widgets/controls",
            "_model_module_version": "1.5.0",
            "_model_name": "HTMLModel",
            "_view_count": null,
            "_view_module": "@jupyter-widgets/controls",
            "_view_module_version": "1.5.0",
            "_view_name": "HTMLView",
            "description": "",
            "description_tooltip": null,
            "layout": "IPY_MODEL_718af8c8d6844d1b9fc194e97236001b",
            "placeholder": "​",
            "style": "IPY_MODEL_f8bbbc383e11436283bab049988b8853",
            "value": " 520/520 [1:57:37&lt;00:00, 12.05s/it]"
          }
        },
        "f8bbbc383e11436283bab049988b8853": {
          "model_module": "@jupyter-widgets/controls",
          "model_module_version": "1.5.0",
          "model_name": "DescriptionStyleModel",
          "state": {
            "_model_module": "@jupyter-widgets/controls",
            "_model_module_version": "1.5.0",
            "_model_name": "DescriptionStyleModel",
            "_view_count": null,
            "_view_module": "@jupyter-widgets/base",
            "_view_module_version": "1.2.0",
            "_view_name": "StyleView",
            "description_width": ""
          }
        },
        "f8e11dd4b582426abfbbaa73c4a715b0": {
          "model_module": "@jupyter-widgets/controls",
          "model_module_version": "1.5.0",
          "model_name": "DescriptionStyleModel",
          "state": {
            "_model_module": "@jupyter-widgets/controls",
            "_model_module_version": "1.5.0",
            "_model_name": "DescriptionStyleModel",
            "_view_count": null,
            "_view_module": "@jupyter-widgets/base",
            "_view_module_version": "1.2.0",
            "_view_name": "StyleView",
            "description_width": ""
          }
        },
        "b755a7df9402467dbdfff050f9c0902e": {
          "model_module": "@jupyter-widgets/controls",
          "model_name": "HBoxModel",
          "model_module_version": "1.5.0",
          "state": {
            "_dom_classes": [],
            "_model_module": "@jupyter-widgets/controls",
            "_model_module_version": "1.5.0",
            "_model_name": "HBoxModel",
            "_view_count": null,
            "_view_module": "@jupyter-widgets/controls",
            "_view_module_version": "1.5.0",
            "_view_name": "HBoxView",
            "box_style": "",
            "children": [
              "IPY_MODEL_fa410fc067014127bc59bea6e0cc6e62",
              "IPY_MODEL_080d876df70e4496a29a61d892a2fb18",
              "IPY_MODEL_d61e6dfa8cc444e2b21ef9a29e6858f8"
            ],
            "layout": "IPY_MODEL_76e2dc19331149f8b8d9557421bbda27"
          }
        },
        "fa410fc067014127bc59bea6e0cc6e62": {
          "model_module": "@jupyter-widgets/controls",
          "model_name": "HTMLModel",
          "model_module_version": "1.5.0",
          "state": {
            "_dom_classes": [],
            "_model_module": "@jupyter-widgets/controls",
            "_model_module_version": "1.5.0",
            "_model_name": "HTMLModel",
            "_view_count": null,
            "_view_module": "@jupyter-widgets/controls",
            "_view_module_version": "1.5.0",
            "_view_name": "HTMLView",
            "description": "",
            "description_tooltip": null,
            "layout": "IPY_MODEL_b0555d437c144a10b41c848c48bb5895",
            "placeholder": "​",
            "style": "IPY_MODEL_58dba602383c47adaed54b8697b79abe",
            "value": ""
          }
        },
        "080d876df70e4496a29a61d892a2fb18": {
          "model_module": "@jupyter-widgets/controls",
          "model_name": "FloatProgressModel",
          "model_module_version": "1.5.0",
          "state": {
            "_dom_classes": [],
            "_model_module": "@jupyter-widgets/controls",
            "_model_module_version": "1.5.0",
            "_model_name": "FloatProgressModel",
            "_view_count": null,
            "_view_module": "@jupyter-widgets/controls",
            "_view_module_version": "1.5.0",
            "_view_name": "ProgressView",
            "bar_style": "success",
            "description": "",
            "description_tooltip": null,
            "layout": "IPY_MODEL_fc4ca1704ada4ec69467aa478a825813",
            "max": 1,
            "min": 0,
            "orientation": "horizontal",
            "style": "IPY_MODEL_ba7965812ee54476ab1612ababcef65c",
            "value": 1
          }
        },
        "d61e6dfa8cc444e2b21ef9a29e6858f8": {
          "model_module": "@jupyter-widgets/controls",
          "model_name": "HTMLModel",
          "model_module_version": "1.5.0",
          "state": {
            "_dom_classes": [],
            "_model_module": "@jupyter-widgets/controls",
            "_model_module_version": "1.5.0",
            "_model_name": "HTMLModel",
            "_view_count": null,
            "_view_module": "@jupyter-widgets/controls",
            "_view_module_version": "1.5.0",
            "_view_name": "HTMLView",
            "description": "",
            "description_tooltip": null,
            "layout": "IPY_MODEL_3590f1e8378842dc83c03ad3018c21bc",
            "placeholder": "​",
            "style": "IPY_MODEL_970707e4014a46eabaa04a9f24d0ec8f",
            "value": " 62908/? [03:52&lt;00:00, 267.69it/s]"
          }
        },
        "76e2dc19331149f8b8d9557421bbda27": {
          "model_module": "@jupyter-widgets/base",
          "model_name": "LayoutModel",
          "model_module_version": "1.2.0",
          "state": {
            "_model_module": "@jupyter-widgets/base",
            "_model_module_version": "1.2.0",
            "_model_name": "LayoutModel",
            "_view_count": null,
            "_view_module": "@jupyter-widgets/base",
            "_view_module_version": "1.2.0",
            "_view_name": "LayoutView",
            "align_content": null,
            "align_items": null,
            "align_self": null,
            "border": null,
            "bottom": null,
            "display": null,
            "flex": null,
            "flex_flow": null,
            "grid_area": null,
            "grid_auto_columns": null,
            "grid_auto_flow": null,
            "grid_auto_rows": null,
            "grid_column": null,
            "grid_gap": null,
            "grid_row": null,
            "grid_template_areas": null,
            "grid_template_columns": null,
            "grid_template_rows": null,
            "height": null,
            "justify_content": null,
            "justify_items": null,
            "left": null,
            "margin": null,
            "max_height": null,
            "max_width": null,
            "min_height": null,
            "min_width": null,
            "object_fit": null,
            "object_position": null,
            "order": null,
            "overflow": null,
            "overflow_x": null,
            "overflow_y": null,
            "padding": null,
            "right": null,
            "top": null,
            "visibility": null,
            "width": null
          }
        },
        "b0555d437c144a10b41c848c48bb5895": {
          "model_module": "@jupyter-widgets/base",
          "model_name": "LayoutModel",
          "model_module_version": "1.2.0",
          "state": {
            "_model_module": "@jupyter-widgets/base",
            "_model_module_version": "1.2.0",
            "_model_name": "LayoutModel",
            "_view_count": null,
            "_view_module": "@jupyter-widgets/base",
            "_view_module_version": "1.2.0",
            "_view_name": "LayoutView",
            "align_content": null,
            "align_items": null,
            "align_self": null,
            "border": null,
            "bottom": null,
            "display": null,
            "flex": null,
            "flex_flow": null,
            "grid_area": null,
            "grid_auto_columns": null,
            "grid_auto_flow": null,
            "grid_auto_rows": null,
            "grid_column": null,
            "grid_gap": null,
            "grid_row": null,
            "grid_template_areas": null,
            "grid_template_columns": null,
            "grid_template_rows": null,
            "height": null,
            "justify_content": null,
            "justify_items": null,
            "left": null,
            "margin": null,
            "max_height": null,
            "max_width": null,
            "min_height": null,
            "min_width": null,
            "object_fit": null,
            "object_position": null,
            "order": null,
            "overflow": null,
            "overflow_x": null,
            "overflow_y": null,
            "padding": null,
            "right": null,
            "top": null,
            "visibility": null,
            "width": null
          }
        },
        "58dba602383c47adaed54b8697b79abe": {
          "model_module": "@jupyter-widgets/controls",
          "model_name": "DescriptionStyleModel",
          "model_module_version": "1.5.0",
          "state": {
            "_model_module": "@jupyter-widgets/controls",
            "_model_module_version": "1.5.0",
            "_model_name": "DescriptionStyleModel",
            "_view_count": null,
            "_view_module": "@jupyter-widgets/base",
            "_view_module_version": "1.2.0",
            "_view_name": "StyleView",
            "description_width": ""
          }
        },
        "fc4ca1704ada4ec69467aa478a825813": {
          "model_module": "@jupyter-widgets/base",
          "model_name": "LayoutModel",
          "model_module_version": "1.2.0",
          "state": {
            "_model_module": "@jupyter-widgets/base",
            "_model_module_version": "1.2.0",
            "_model_name": "LayoutModel",
            "_view_count": null,
            "_view_module": "@jupyter-widgets/base",
            "_view_module_version": "1.2.0",
            "_view_name": "LayoutView",
            "align_content": null,
            "align_items": null,
            "align_self": null,
            "border": null,
            "bottom": null,
            "display": null,
            "flex": null,
            "flex_flow": null,
            "grid_area": null,
            "grid_auto_columns": null,
            "grid_auto_flow": null,
            "grid_auto_rows": null,
            "grid_column": null,
            "grid_gap": null,
            "grid_row": null,
            "grid_template_areas": null,
            "grid_template_columns": null,
            "grid_template_rows": null,
            "height": null,
            "justify_content": null,
            "justify_items": null,
            "left": null,
            "margin": null,
            "max_height": null,
            "max_width": null,
            "min_height": null,
            "min_width": null,
            "object_fit": null,
            "object_position": null,
            "order": null,
            "overflow": null,
            "overflow_x": null,
            "overflow_y": null,
            "padding": null,
            "right": null,
            "top": null,
            "visibility": null,
            "width": "20px"
          }
        },
        "ba7965812ee54476ab1612ababcef65c": {
          "model_module": "@jupyter-widgets/controls",
          "model_name": "ProgressStyleModel",
          "model_module_version": "1.5.0",
          "state": {
            "_model_module": "@jupyter-widgets/controls",
            "_model_module_version": "1.5.0",
            "_model_name": "ProgressStyleModel",
            "_view_count": null,
            "_view_module": "@jupyter-widgets/base",
            "_view_module_version": "1.2.0",
            "_view_name": "StyleView",
            "bar_color": null,
            "description_width": ""
          }
        },
        "3590f1e8378842dc83c03ad3018c21bc": {
          "model_module": "@jupyter-widgets/base",
          "model_name": "LayoutModel",
          "model_module_version": "1.2.0",
          "state": {
            "_model_module": "@jupyter-widgets/base",
            "_model_module_version": "1.2.0",
            "_model_name": "LayoutModel",
            "_view_count": null,
            "_view_module": "@jupyter-widgets/base",
            "_view_module_version": "1.2.0",
            "_view_name": "LayoutView",
            "align_content": null,
            "align_items": null,
            "align_self": null,
            "border": null,
            "bottom": null,
            "display": null,
            "flex": null,
            "flex_flow": null,
            "grid_area": null,
            "grid_auto_columns": null,
            "grid_auto_flow": null,
            "grid_auto_rows": null,
            "grid_column": null,
            "grid_gap": null,
            "grid_row": null,
            "grid_template_areas": null,
            "grid_template_columns": null,
            "grid_template_rows": null,
            "height": null,
            "justify_content": null,
            "justify_items": null,
            "left": null,
            "margin": null,
            "max_height": null,
            "max_width": null,
            "min_height": null,
            "min_width": null,
            "object_fit": null,
            "object_position": null,
            "order": null,
            "overflow": null,
            "overflow_x": null,
            "overflow_y": null,
            "padding": null,
            "right": null,
            "top": null,
            "visibility": null,
            "width": null
          }
        },
        "970707e4014a46eabaa04a9f24d0ec8f": {
          "model_module": "@jupyter-widgets/controls",
          "model_name": "DescriptionStyleModel",
          "model_module_version": "1.5.0",
          "state": {
            "_model_module": "@jupyter-widgets/controls",
            "_model_module_version": "1.5.0",
            "_model_name": "DescriptionStyleModel",
            "_view_count": null,
            "_view_module": "@jupyter-widgets/base",
            "_view_module_version": "1.2.0",
            "_view_name": "StyleView",
            "description_width": ""
          }
        }
      }
    }
  },
  "nbformat": 4,
  "nbformat_minor": 0
}